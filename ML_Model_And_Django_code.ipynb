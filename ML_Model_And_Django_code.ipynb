{
 "cells": [
  {
   "cell_type": "code",
   "execution_count": 4,
   "id": "c91e00c6",
   "metadata": {},
   "outputs": [],
   "source": [
    "import pandas as pd\n",
    "import numpy as np\n",
    "import warnings\n",
    "warnings.filterwarnings(\"ignore\")"
   ]
  },
  {
   "cell_type": "code",
   "execution_count": 5,
   "id": "66ef11b9",
   "metadata": {},
   "outputs": [],
   "source": [
    "col = [\"Service_ID\",'Patient_ID','Patient_Number','IMREDEM_CODE',\n",
    "       'patient_age','Actual_Dr_Name','Place_of_Service_Abbr','Proc_Category_Abbr',\n",
    "       'Type_of_Service_Abbr','patient_zip_code','patient_sex','Original_Carrier_Name','Patient_City',\n",
    "       'Patient_State','Diagnosis_Code','Diagnosis_Descr','CoPayment','CoInsurance',\n",
    "       'Primary_Diagnosis_Code','Procedure_Code','Service_Units','Service_Date_From','Claim_Number', \n",
    "       'Original_Billing_Date', 'Date_Paid','Service_Fee','Amount', 'Allowed', 'Deductible',\n",
    "       'Transaction_Type','Abbreviation' ,'Description', 'Self_Pay_TranCode']\n"
   ]
  },
  {
   "cell_type": "code",
   "execution_count": 6,
   "id": "f0e7eb96",
   "metadata": {},
   "outputs": [
    {
     "data": {
      "text/plain": [
       "(218041, 33)"
      ]
     },
     "execution_count": 6,
     "metadata": {},
     "output_type": "execute_result"
    }
   ],
   "source": [
    "df = pd.read_csv(r'E:/OneDrive - Quadratic Insights Pvt Ltd/Desktop/New folder/ML_data.csv', header = None, names = col)\n",
    "df.shape"
   ]
  },
  {
   "cell_type": "code",
   "execution_count": 7,
   "id": "020b90fb",
   "metadata": {},
   "outputs": [],
   "source": [
    "df[\"Description\"] = df[\"Description\"].apply(lambda x: -999 if str(x).startswith(\"Self\") else x)\n",
    "self_pay_index = df.loc[df[\"Description\"] == -999].index\n",
    "df = df.drop(self_pay_index)"
   ]
  },
  {
   "cell_type": "code",
   "execution_count": 8,
   "id": "90de3c0a",
   "metadata": {},
   "outputs": [],
   "source": [
    "list_of_col_drop = [\"Self Pay Transfer\", \"Self Pay Adjustment\", \"Self Pay Financial Hardship\"]\n",
    "df = df[~df.Description.isin(list_of_col_drop)]\n",
    "df = df.drop([\"IMREDEM_CODE\", \"Patient_ID\"], axis=1)"
   ]
  },
  {
   "cell_type": "code",
   "execution_count": 9,
   "id": "f691759f",
   "metadata": {},
   "outputs": [
    {
     "name": "stdout",
     "output_type": "stream",
     "text": [
      "(211290, 31)\n",
      "(188799, 31)\n",
      "(133006, 31)\n"
     ]
    }
   ],
   "source": [
    "# Preprocessing   CTRL+/ to comment multiple statements\n",
    "df = df.loc[df[\"Service_Date_From\"] >= \"2017-01-01\"]\n",
    "print(df.shape)\n",
    "df = df.drop_duplicates() \n",
    "print(df.shape)\n",
    "df = df.loc[df[\"Service_Fee\"] > 0]\n",
    "print(df.shape)\n",
    "df = df.loc[df[\"Original_Billing_Date\"].notna()]\n",
    "df = df.loc[df[\"Date_Paid\"].notna()]\n",
    "index_names = df[(df['Transaction_Type'] == 'T') & (df['Amount']> 0)].index\n",
    "df.drop(index_names, inplace = True)"
   ]
  },
  {
   "cell_type": "code",
   "execution_count": 10,
   "id": "0840c2b6",
   "metadata": {},
   "outputs": [],
   "source": [
    "# Target variable derviation\n",
    "df[\"Original_Billing_Date\"] = pd.to_datetime(df[\"Original_Billing_Date\"])\n",
    "df[\"Date_Paid\"] = pd.to_datetime(df[\"Date_Paid\"])\n",
    "df[\"Delay_in_days\"] = pd.to_datetime(df[\"Date_Paid\"]) - pd.to_datetime(df[\"Original_Billing_Date\"])\n",
    "df[\"Delay_in_days\"] = df[\"Delay_in_days\"].apply(lambda x : int(str(x).split(\" \")[0]))\n",
    "df[\"Payment_portion\"] = df[\"Amount\"] / df[\"Service_Fee\"]\n",
    "df[\"Decay\"] = (1 - (df[\"Delay_in_days\"] / 365))\n",
    "df[\"Actual_decay\"] = df[\"Decay\"].apply(lambda x : max(0, x))\n",
    "df[\"Score\"] = df[\"Actual_decay\"] * df[\"Payment_portion\"]"
   ]
  },
  {
   "cell_type": "code",
   "execution_count": 11,
   "id": "2ed45ded",
   "metadata": {},
   "outputs": [],
   "source": [
    "# If the payment is -ve trasaction need to remove those records for that index is taken for last \n",
    "#negative transaction and kept and greater index that one\n",
    "patient_id = df[\"Patient_Number\"].value_counts().keys().tolist()\n",
    "new_df = pd.DataFrame()\n",
    "for i in range(len(patient_id)): \n",
    "    service_id = df.loc[df[\"Patient_Number\"] == patient_id[i]]\n",
    "#     new_df = new_df.append(service_id)\n",
    "    service = service_id.loc[service_id[\"Score\"] < 0].empty\n",
    "\n",
    "    if service == False:\n",
    "        index_to_consider_to_drop = service_id.loc[service_id[\"Score\"] < 0].index.tolist()[-1]\n",
    "        service_id = service_id[service_id.index > index_to_consider_to_drop]\n",
    "        new_df = new_df.append(service_id)\n",
    "\n",
    "    else:\n",
    "        new_df = new_df.append(service_id)\n",
    "        \n",
    "# index to drop this will afftect the target score drop the records where payment proportion is 1\n",
    "# index_to_drop = new_df.loc[new_df[\"Payment_portion\"] == 1.0].index[0]\n",
    "# new_df = new_df.drop(index_to_drop, axis=0)\n",
    "\n",
    "# Drop the records where delay in days is coming -ve. because original billing date is coming greater thatn\n",
    "# date paid column\n",
    "# new_df = new_df.loc[new_df[\"Delay_in_days\"] >= 0]\n",
    "\n",
    "\n",
    "# copy the data drame\n",
    "new_df_copy = new_df"
   ]
  },
  {
   "cell_type": "code",
   "execution_count": 12,
   "id": "7962a1fc",
   "metadata": {},
   "outputs": [],
   "source": [
    "new_df_copy = new_df"
   ]
  },
  {
   "cell_type": "code",
   "execution_count": 13,
   "id": "d3012ab4",
   "metadata": {},
   "outputs": [
    {
     "data": {
      "text/plain": [
       "(100364, 36)"
      ]
     },
     "execution_count": 13,
     "metadata": {},
     "output_type": "execute_result"
    }
   ],
   "source": [
    "new_df_copy.shape"
   ]
  },
  {
   "cell_type": "code",
   "execution_count": 14,
   "id": "2b274e36",
   "metadata": {},
   "outputs": [],
   "source": [
    "# calculationsof weights for the target variable\n",
    "# def weights(score):\n",
    "    \n",
    "#     weight = None\n",
    "    \n",
    "#     if score > 0.9 and score <=1.0:\n",
    "#         weight = 1\n",
    "        \n",
    "#     if score > 0.8 and score <= 0.9:\n",
    "#         weight = 0.9\n",
    "    \n",
    "#     if score > 0.7 and score <= 0.8:\n",
    "#         weight = 0.8\n",
    "        \n",
    "#     if score > 0.6 and score <= 0.7:\n",
    "#         weight = 0.7\n",
    "        \n",
    "#     if score > 0.5 and score <= 0.6:\n",
    "#         weight = 0.6\n",
    "        \n",
    "#     if score > 0.4 and score <= 0.5:\n",
    "#         weight = 0.5\n",
    "        \n",
    "#     if score > 0.3 and score <= 0.4:\n",
    "#         weight = 0.4\n",
    "        \n",
    "#     if score > 0.2 and score <= 0.3:\n",
    "#         weight = 0.3\n",
    "        \n",
    "#     if score > 0.1 and score <= 0.2:\n",
    "#         weight = 0.2\n",
    "        \n",
    "#     if score >= 0 and score <= 0.1:\n",
    "#         weight = 0.1\n",
    "        \n",
    "#     return weight\n",
    "        \n",
    "# # on the copied data frame weights are applied\n",
    "# new_df_copy[\"Weights\"] = new_df_copy[\"Score\"].apply(weights)\n",
    "# # remove the weights where there are null value\n",
    "# new_df_copy = new_df_copy[~new_df_copy[\"Weights\"].isna()]\n",
    "# # get the score where score is greated than 0 so that weight_acore will not affect\n",
    "# new_df_copy = new_df_copy.loc[new_df[\"Score\"] > 0]"
   ]
  },
  {
   "cell_type": "code",
   "execution_count": 15,
   "id": "d20928db",
   "metadata": {},
   "outputs": [],
   "source": [
    "# Create a group data and target variable as mean\n",
    "x = new_df_copy.groupby([\"Service_ID\"], as_index=False).agg({\n",
    "    \n",
    "\n",
    "    \"Patient_Number\" : \"first\",\n",
    "    'patient_age': \"max\",\n",
    "    'Actual_Dr_Name':'first',\n",
    "    'Place_of_Service_Abbr':'first',\n",
    "    'Proc_Category_Abbr':'first',\n",
    "    'Type_of_Service_Abbr':'first',\n",
    "    'patient_zip_code': \"first\",\n",
    "    'patient_sex' : \"first\",\n",
    "    'Original_Carrier_Name':\"first\",\n",
    "    'Patient_City':\"first\",\n",
    "    'Patient_State':\"first\",\n",
    "    \"Diagnosis_Code\" : 'first',\n",
    "    \"Diagnosis_Descr\":\"first\",\n",
    "    'CoInsurance':\"sum\", \n",
    "    'CoPayment':\"sum\", \n",
    "    \"Primary_Diagnosis_Code\" : \"first\",\n",
    "    \"Procedure_Code\":\"first\",\n",
    "    'Service_Units':\"sum\",\n",
    "    'Service_Date_From':\"first\",\n",
    "    \"Claim_Number\" : \"first\",\n",
    "    \"Original_Billing_Date\":\"first\",\n",
    "    \"Date_Paid\":'last',\n",
    "    \"Service_Fee\":\"max\",\n",
    "    \"Amount\":\"max\",\n",
    "    'Allowed': 'max',\n",
    "    \"Deductible\":\"max\",\n",
    "    \"Transaction_Type\":\"count\",\n",
    "    \"Score\": \"sum\"\n",
    "})"
   ]
  },
  {
   "cell_type": "code",
   "execution_count": 18,
   "id": "864ab41a",
   "metadata": {},
   "outputs": [
    {
     "data": {
      "text/plain": [
       "<AxesSubplot:xlabel='Score', ylabel='Density'>"
      ]
     },
     "execution_count": 18,
     "metadata": {},
     "output_type": "execute_result"
    },
    {
     "data": {
      "image/png": "[encoded data removed]",
      "text/plain": [
       "<Figure size 432x288 with 1 Axes>"
      ]
     },
     "metadata": {
      "needs_background": "light"
     },
     "output_type": "display_data"
    }
   ],
   "source": [
    "import seaborn as sns\n",
    "sns.distplot(x[\"Score\"])"
   ]
  },
  {
   "cell_type": "code",
   "execution_count": 20,
   "id": "b142f161",
   "metadata": {},
   "outputs": [],
   "source": [
    "# Create a weight_Score new dataframe\n",
    "# weihted_score = new_df_copy.groupby(\"Service_ID\", as_index=False).apply(lambda x: np.average(x['Score'], weights=x['Weights']))\n",
    "# weihted_score = pd.DataFrame(weihted_score)\n",
    "# weihted_score[\"Weighted_Score\"] = weihted_score.iloc[:,1]\n",
    "# weihted_score = weihted_score[[\"Service_ID\", \"Weighted_Score\"]]\n",
    "# Combine a dataframe to new dataframe\n",
    "# new_df_copy = pd.merge(x, weihted_score, on='Service_ID')\n"
   ]
  },
  {
   "cell_type": "code",
   "execution_count": 21,
   "id": "cb534411",
   "metadata": {},
   "outputs": [],
   "source": [
    "# Aggregate again for the combination\n",
    "x = x.groupby([\"Patient_Number\", \"Original_Carrier_Name\",\"Primary_Diagnosis_Code\",\"Procedure_Code\"], as_index=False).agg({\n",
    "    \n",
    "    \"Service_ID\" : \"count\",\n",
    "#     \"Patient_Number\" : \"first\",\n",
    "    'patient_age': \"max\",\n",
    "    'Actual_Dr_Name':'first',\n",
    "    'Place_of_Service_Abbr':'first',\n",
    "    'Proc_Category_Abbr':'first',\n",
    "    'Type_of_Service_Abbr':'first',\n",
    "    'patient_zip_code': \"first\",\n",
    "    'patient_sex' : \"first\",\n",
    "#     'Original_Carrier_Name':\"first\",\n",
    "    'Patient_City':\"first\",\n",
    "    'Patient_State':\"first\",\n",
    "    \"Diagnosis_Code\" : 'first',\n",
    "    \"Diagnosis_Descr\":\"first\",\n",
    "    'CoInsurance':\"sum\", \n",
    "    'CoPayment':\"sum\", \n",
    "#     \"Primary_Diagnosis_Code\" : \"first\",\n",
    "#     \"Procedure_Code\":\"first\",\n",
    "    'Service_Units':\"sum\",\n",
    "    'Service_Date_From':\"first\",\n",
    "    \"Claim_Number\" : \"first\",\n",
    "    \"Original_Billing_Date\":\"first\",\n",
    "    \"Date_Paid\":'last',\n",
    "    \"Service_Fee\":\"max\",\n",
    "    \"Amount\":\"max\",\n",
    "    'Allowed': 'max',\n",
    "    \"Deductible\":\"max\",\n",
    "    \"Transaction_Type\":\"count\",\n",
    "    \"Score\": \"sum\"\n",
    "})\n",
    "\n"
   ]
  },
  {
   "cell_type": "code",
   "execution_count": 22,
   "id": "639c38fe",
   "metadata": {},
   "outputs": [
    {
     "data": {
      "text/plain": [
       "<AxesSubplot:xlabel='Score', ylabel='Density'>"
      ]
     },
     "execution_count": 22,
     "metadata": {},
     "output_type": "execute_result"
    },
    {
     "data": {
      "image/png": "[encoded data removed]",
      "text/plain": [
       "<Figure size 432x288 with 1 Axes>"
      ]
     },
     "metadata": {
      "needs_background": "light"
     },
     "output_type": "display_data"
    }
   ],
   "source": [
    "import seaborn as sns\n",
    "sns.distplot(x[\"Score\"])"
   ]
  },
  {
   "cell_type": "code",
   "execution_count": 23,
   "id": "034a57f4",
   "metadata": {},
   "outputs": [
    {
     "data": {
      "text/plain": [
       "0        3.145205\n",
       "1        3.901370\n",
       "2        1.956164\n",
       "3        0.956164\n",
       "4        0.956164\n",
       "           ...   \n",
       "21045    0.983562\n",
       "21046    0.834537\n",
       "21047    0.000000\n",
       "21048    0.983562\n",
       "21049    0.983562\n",
       "Name: Score, Length: 21050, dtype: float64"
      ]
     },
     "execution_count": 23,
     "metadata": {},
     "output_type": "execute_result"
    }
   ],
   "source": [
    "x['Score']"
   ]
  },
  {
   "cell_type": "code",
   "execution_count": 27,
   "id": "6d0ae31e",
   "metadata": {},
   "outputs": [],
   "source": [
    "from sklearn.preprocessing import MinMaxScaler"
   ]
  },
  {
   "cell_type": "code",
   "execution_count": 28,
   "id": "f1c46cd6",
   "metadata": {},
   "outputs": [],
   "source": [
    "x = x[x[\"Score\"] < 12]\n",
    "# x = x.drop_duplicates()"
   ]
  },
  {
   "cell_type": "code",
   "execution_count": 29,
   "id": "66eb1678",
   "metadata": {},
   "outputs": [
    {
     "data": {
      "text/plain": [
       "(21024, 29)"
      ]
     },
     "execution_count": 29,
     "metadata": {},
     "output_type": "execute_result"
    }
   ],
   "source": [
    "x.shape"
   ]
  },
  {
   "cell_type": "code",
   "execution_count": 30,
   "id": "d145d6d8",
   "metadata": {},
   "outputs": [
    {
     "data": {
      "text/plain": [
       "(21024, 29)"
      ]
     },
     "execution_count": 30,
     "metadata": {},
     "output_type": "execute_result"
    }
   ],
   "source": [
    "col_names = ['Score']\n",
    "features = x[col_names]\n",
    "scaler = MinMaxScaler(feature_range=(0,1))\n",
    "x[col_names] = scaler.fit_transform(features.values)\n",
    "x.shape"
   ]
  },
  {
   "cell_type": "code",
   "execution_count": 33,
   "id": "f58dff7c",
   "metadata": {},
   "outputs": [
    {
     "data": {
      "text/html": [
       "<div>\n",
       "<style scoped>\n",
       "    .dataframe tbody tr th:only-of-type {\n",
       "        vertical-align: middle;\n",
       "    }\n",
       "\n",
       "    .dataframe tbody tr th {\n",
       "        vertical-align: top;\n",
       "    }\n",
       "\n",
       "    .dataframe thead th {\n",
       "        text-align: right;\n",
       "    }\n",
       "</style>\n",
       "<table border=\"1\" class=\"dataframe\">\n",
       "  <thead>\n",
       "    <tr style=\"text-align: right;\">\n",
       "      <th></th>\n",
       "      <th>Score</th>\n",
       "    </tr>\n",
       "  </thead>\n",
       "  <tbody>\n",
       "    <tr>\n",
       "      <th>0</th>\n",
       "      <td>0.262700</td>\n",
       "    </tr>\n",
       "    <tr>\n",
       "      <th>1</th>\n",
       "      <td>0.325858</td>\n",
       "    </tr>\n",
       "    <tr>\n",
       "      <th>2</th>\n",
       "      <td>0.163387</td>\n",
       "    </tr>\n",
       "    <tr>\n",
       "      <th>3</th>\n",
       "      <td>0.079863</td>\n",
       "    </tr>\n",
       "    <tr>\n",
       "      <th>4</th>\n",
       "      <td>0.079863</td>\n",
       "    </tr>\n",
       "    <tr>\n",
       "      <th>...</th>\n",
       "      <td>...</td>\n",
       "    </tr>\n",
       "    <tr>\n",
       "      <th>21045</th>\n",
       "      <td>0.082151</td>\n",
       "    </tr>\n",
       "    <tr>\n",
       "      <th>21046</th>\n",
       "      <td>0.069704</td>\n",
       "    </tr>\n",
       "    <tr>\n",
       "      <th>21047</th>\n",
       "      <td>0.000000</td>\n",
       "    </tr>\n",
       "    <tr>\n",
       "      <th>21048</th>\n",
       "      <td>0.082151</td>\n",
       "    </tr>\n",
       "    <tr>\n",
       "      <th>21049</th>\n",
       "      <td>0.082151</td>\n",
       "    </tr>\n",
       "  </tbody>\n",
       "</table>\n",
       "<p>21024 rows × 1 columns</p>\n",
       "</div>"
      ],
      "text/plain": [
       "          Score\n",
       "0      0.262700\n",
       "1      0.325858\n",
       "2      0.163387\n",
       "3      0.079863\n",
       "4      0.079863\n",
       "...         ...\n",
       "21045  0.082151\n",
       "21046  0.069704\n",
       "21047  0.000000\n",
       "21048  0.082151\n",
       "21049  0.082151\n",
       "\n",
       "[21024 rows x 1 columns]"
      ]
     },
     "execution_count": 33,
     "metadata": {},
     "output_type": "execute_result"
    }
   ],
   "source": [
    "x[col_names]"
   ]
  },
  {
   "cell_type": "code",
   "execution_count": 21,
   "id": "28a9966a",
   "metadata": {},
   "outputs": [
    {
     "data": {
      "text/plain": [
       "<AxesSubplot:xlabel='Score', ylabel='Density'>"
      ]
     },
     "execution_count": 21,
     "metadata": {},
     "output_type": "execute_result"
    },
    {
     "data": {
      "image/png": "[encoded data removed]",
      "text/plain": [
       "<Figure size 432x288 with 1 Axes>"
      ]
     },
     "metadata": {
      "needs_background": "light"
     },
     "output_type": "display_data"
    }
   ],
   "source": [
    "sns.distplot(x[\"Score\"])"
   ]
  },
  {
   "cell_type": "code",
   "execution_count": 22,
   "id": "4dd1c1c1",
   "metadata": {},
   "outputs": [
    {
     "data": {
      "text/plain": [
       "Index(['Patient_Number', 'Original_Carrier_Name', 'Primary_Diagnosis_Code',\n",
       "       'Procedure_Code', 'Service_ID', 'patient_age', 'Actual_Dr_Name',\n",
       "       'Place_of_Service_Abbr', 'Proc_Category_Abbr', 'Type_of_Service_Abbr',\n",
       "       'patient_zip_code', 'patient_sex', 'Patient_City', 'Patient_State',\n",
       "       'Diagnosis_Code', 'Diagnosis_Descr', 'CoInsurance', 'CoPayment',\n",
       "       'Service_Units', 'Service_Date_From', 'Claim_Number',\n",
       "       'Original_Billing_Date', 'Date_Paid', 'Service_Fee', 'Amount',\n",
       "       'Allowed', 'Deductible', 'Transaction_Type', 'Score'],\n",
       "      dtype='object')"
      ]
     },
     "execution_count": 22,
     "metadata": {},
     "output_type": "execute_result"
    }
   ],
   "source": [
    "x.columns"
   ]
  },
  {
   "cell_type": "code",
   "execution_count": 34,
   "id": "b0db582c",
   "metadata": {},
   "outputs": [],
   "source": [
    "x = x.drop(\"Service_ID\", axis=1)\n",
    "x = x.drop_duplicates()\n",
    "x[\"Diagnosis_Code\"] = x[\"Diagnosis_Code\"].astype('category')\n",
    "x[\"Patient_Number\"] = x[\"Patient_Number\"].astype('category')\n",
    "x[\"patient_age\"] = x[\"patient_age\"].astype('int64')\n",
    "x[\"Actual_Dr_Name\"] = x[\"Actual_Dr_Name\"].astype('category')\n",
    "x[\"Place_of_Service_Abbr\"] = x[\"Place_of_Service_Abbr\"].astype('category')\n",
    "x[\"Proc_Category_Abbr\"] = x[\"Proc_Category_Abbr\"].astype('category')\n",
    "x[\"Type_of_Service_Abbr\"] = x[\"Type_of_Service_Abbr\"].astype('category')\n",
    "x[\"patient_zip_code\"] = x[\"patient_zip_code\"].astype('category')\n",
    "x[\"patient_sex\"] = x[\"patient_sex\"].astype('category')\n",
    "x[\"Original_Carrier_Name\"] = x[\"Original_Carrier_Name\"].astype('category')\n",
    "x[\"Patient_City\"] = x[\"Patient_City\"].astype('category')\n",
    "x[\"Patient_State\"] = x[\"Patient_State\"].astype('category')\n",
    "x[\"Diagnosis_Descr\"] = x[\"Diagnosis_Descr\"].astype('category')\n",
    "x[\"CoInsurance\"] = x[\"CoInsurance\"].astype('int64')\n",
    "x[\"CoPayment\"] = x[\"CoPayment\"].astype('int64')\n",
    "x[\"Primary_Diagnosis_Code\"] = x[\"Primary_Diagnosis_Code\"].astype('category')\n",
    "x[\"Procedure_Code\"] = x[\"Procedure_Code\"].astype('category')\n",
    "x[\"Service_Units\"] = x[\"Service_Units\"].astype(\"int64\")\n",
    "x[\"Service_Date_From\"] = pd.to_datetime(x[\"Service_Date_From\"])\n",
    "x[\"Claim_Number\"] = x[\"Claim_Number\"].astype('category')\n",
    "x[\"Original_Billing_Date\"] = pd.to_datetime(x[\"Original_Billing_Date\"])\n",
    "x[\"Date_Paid\"] = pd.to_datetime(x[\"Date_Paid\"])\n",
    "x[\"Claim_Number\"] = x[\"Claim_Number\"].astype('category')\n",
    "\n",
    "x[\"Allowed\"] = x[\"Allowed\"].fillna(0)\n",
    "x[\"Payment_portion_percentage\"]= x[\"Allowed\"] / x[\"Service_Fee\"] * 100\n",
    "x[\"Score\"] = np.round(x[\"Score\"], 2)"
   ]
  },
  {
   "cell_type": "code",
   "execution_count": 35,
   "id": "e1b8e784",
   "metadata": {},
   "outputs": [
    {
     "data": {
      "text/plain": [
       "(21024, 29)"
      ]
     },
     "execution_count": 35,
     "metadata": {},
     "output_type": "execute_result"
    }
   ],
   "source": [
    "x.shape"
   ]
  },
  {
   "cell_type": "code",
   "execution_count": 36,
   "id": "41343388",
   "metadata": {},
   "outputs": [
    {
     "data": {
      "text/plain": [
       "Patient_Number                    0\n",
       "Original_Carrier_Name             0\n",
       "Primary_Diagnosis_Code            0\n",
       "Procedure_Code                    0\n",
       "patient_age                       0\n",
       "Actual_Dr_Name                    0\n",
       "Place_of_Service_Abbr             0\n",
       "Proc_Category_Abbr                0\n",
       "Type_of_Service_Abbr              0\n",
       "patient_zip_code                  0\n",
       "patient_sex                       0\n",
       "Patient_City                      0\n",
       "Patient_State                     0\n",
       "Diagnosis_Code                    0\n",
       "Diagnosis_Descr                   0\n",
       "CoInsurance                       0\n",
       "CoPayment                         0\n",
       "Service_Units                     0\n",
       "Service_Date_From                 0\n",
       "Claim_Number                      0\n",
       "Original_Billing_Date             0\n",
       "Date_Paid                         0\n",
       "Service_Fee                       0\n",
       "Amount                            0\n",
       "Allowed                           0\n",
       "Deductible                    19855\n",
       "Transaction_Type                  0\n",
       "Score                             0\n",
       "Payment_portion_percentage        0\n",
       "dtype: int64"
      ]
     },
     "execution_count": 36,
     "metadata": {},
     "output_type": "execute_result"
    }
   ],
   "source": [
    "x.isna().sum()"
   ]
  },
  {
   "cell_type": "code",
   "execution_count": 38,
   "id": "2cb76881",
   "metadata": {},
   "outputs": [
    {
     "data": {
      "text/plain": [
       "Patient_Number                0\n",
       "Original_Carrier_Name         0\n",
       "Primary_Diagnosis_Code        0\n",
       "Procedure_Code                0\n",
       "patient_age                   0\n",
       "Actual_Dr_Name                0\n",
       "Place_of_Service_Abbr         0\n",
       "Proc_Category_Abbr            0\n",
       "Type_of_Service_Abbr          0\n",
       "patient_zip_code              0\n",
       "patient_sex                   0\n",
       "Patient_City                  0\n",
       "Patient_State                 0\n",
       "Diagnosis_Code                0\n",
       "Diagnosis_Descr               0\n",
       "CoInsurance                   0\n",
       "CoPayment                     0\n",
       "Service_Units                 0\n",
       "Service_Date_From             0\n",
       "Claim_Number                  0\n",
       "Original_Billing_Date         0\n",
       "Date_Paid                     0\n",
       "Service_Fee                   0\n",
       "Amount                        0\n",
       "Allowed                       0\n",
       "Transaction_Type              0\n",
       "Score                         0\n",
       "Payment_portion_percentage    0\n",
       "dtype: int64"
      ]
     },
     "execution_count": 38,
     "metadata": {},
     "output_type": "execute_result"
    }
   ],
   "source": [
    "# x[\"Allowed\"] = x[\"Allowed\"].fillna(0)\n",
    "x[\"Payment_portion_percentage\"] = x[\"Payment_portion_percentage\"].fillna(0)\n",
    "x = x.drop([\"Deductible\"], axis=1)\n",
    "from sklearn.impute import SimpleImputer\n",
    "impute = SimpleImputer(strategy='most_frequent')\n",
    "x[\"Original_Carrier_Name\"] = impute.fit_transform(x[[\"Original_Carrier_Name\"]])\n",
    "x.isna().sum() "
   ]
  },
  {
   "cell_type": "code",
   "execution_count": 40,
   "id": "70d71ee2",
   "metadata": {},
   "outputs": [
    {
     "ename": "ModuleNotFoundError",
     "evalue": "No module named 'catboost'",
     "output_type": "error",
     "traceback": [
      "\u001b[1;31m---------------------------------------------------------------------------\u001b[0m",
      "\u001b[1;31mModuleNotFoundError\u001b[0m                       Traceback (most recent call last)",
      "\u001b[1;32m~\\AppData\\Local\\Temp/ipykernel_24120/3693834298.py\u001b[0m in \u001b[0;36m<module>\u001b[1;34m\u001b[0m\n\u001b[0;32m      1\u001b[0m \u001b[1;31m#import catboost as cb\u001b[0m\u001b[1;33m\u001b[0m\u001b[1;33m\u001b[0m\u001b[0m\n\u001b[1;32m----> 2\u001b[1;33m \u001b[1;32mimport\u001b[0m \u001b[0mcatboost\u001b[0m \u001b[1;32mas\u001b[0m \u001b[0mcb\u001b[0m\u001b[1;33m\u001b[0m\u001b[1;33m\u001b[0m\u001b[0m\n\u001b[0m\u001b[0;32m      3\u001b[0m \u001b[1;32mfrom\u001b[0m \u001b[0msklearn\u001b[0m\u001b[1;33m.\u001b[0m\u001b[0mmodel_selection\u001b[0m \u001b[1;32mimport\u001b[0m \u001b[0mtrain_test_split\u001b[0m\u001b[1;33m\u001b[0m\u001b[1;33m\u001b[0m\u001b[0m\n\u001b[0;32m      4\u001b[0m \u001b[1;32mfrom\u001b[0m \u001b[0msklearn\u001b[0m\u001b[1;33m.\u001b[0m\u001b[0mmetrics\u001b[0m \u001b[1;32mimport\u001b[0m \u001b[0mmean_squared_error\u001b[0m\u001b[1;33m\u001b[0m\u001b[1;33m\u001b[0m\u001b[0m\n\u001b[0;32m      5\u001b[0m \u001b[1;32mfrom\u001b[0m \u001b[0msklearn\u001b[0m\u001b[1;33m.\u001b[0m\u001b[0mmetrics\u001b[0m \u001b[1;32mimport\u001b[0m \u001b[0mr2_score\u001b[0m\u001b[1;33m,\u001b[0m \u001b[0maccuracy_score\u001b[0m\u001b[1;33m\u001b[0m\u001b[1;33m\u001b[0m\u001b[0m\n",
      "\u001b[1;31mModuleNotFoundError\u001b[0m: No module named 'catboost'"
     ]
    }
   ],
   "source": [
    "#import catboost as cb\n",
    "import catboost as cb\n",
    "from sklearn.model_selection import train_test_split\n",
    "from sklearn.metrics import mean_squared_error\n",
    "from sklearn.metrics import r2_score, accuracy_score\n",
    "from sklearn.inspection import permutation_importance\n",
    "from catboost import CatBoostRegressor\n",
    "\n",
    "import numpy as np\n",
    "import pandas as pd\n",
    "from matplotlib import pyplot as plt\n",
    "import seaborn as sns\n",
    "\n",
    "import plotly\n",
    "from plotly.offline import iplot\n",
    "import plotly.graph_objs as go     \n",
    "\n",
    "import datetime\n",
    "\n",
    "# Importing libraries for feature selection by varianceThresholdmethod and chi2_contingency\n",
    "from sklearn.feature_selection import VarianceThreshold\n",
    "from scipy.stats import chi2_contingency\n",
    "import statsmodels.api as sm\n",
    "\n",
    "#Train test split\n",
    "from sklearn.model_selection import train_test_split\n",
    "# imputing for missing values\n",
    "from sklearn.impute import SimpleImputer\n",
    "# Standerdisation of numeric attributes and dummification of cat features\n",
    "from sklearn.preprocessing import StandardScaler, OneHotEncoder\n",
    "from sklearn.metrics import mean_absolute_error, mean_absolute_percentage_error"
   ]
  },
  {
   "cell_type": "code",
   "execution_count": null,
   "id": "f0bd911a",
   "metadata": {},
   "outputs": [],
   "source": [
    "# x = x.drop(\"Service_ID\", axis=1)\n",
    "x.drop_duplicates()"
   ]
  },
  {
   "cell_type": "code",
   "execution_count": null,
   "id": "8fb1f052",
   "metadata": {},
   "outputs": [],
   "source": [
    "y = x[\"Score\"]\n",
    "X = x.drop(\"Score\", axis=1)\n",
    "X_train, X_test, y_train, y_test = train_test_split(X, y, test_size = 0.2, random_state=123)"
   ]
  },
  {
   "cell_type": "code",
   "execution_count": null,
   "id": "eb75787f",
   "metadata": {},
   "outputs": [],
   "source": [
    "#List of categorical columns\n",
    "categoricalcolumns = X_train.select_dtypes(include=[\"category\", \"object\"]).columns.tolist()\n",
    "print(\"Names of categorical columns : \", categoricalcolumns)\n",
    "#Get location of categorical columns\n",
    "cat_features = [X_train.columns.get_loc(col) for col in categoricalcolumns]\n",
    "print(\"Location of categorical columns : \",cat_features)\n",
    "cat_features = [int(i) for i in cat_features]"
   ]
  },
  {
   "cell_type": "code",
   "execution_count": null,
   "id": "137ea83d",
   "metadata": {},
   "outputs": [],
   "source": [
    "# importing Pool\n",
    "from catboost import Pool\n",
    "#Creating pool object for train dataset. we give information of categorical fetures to parameter cat_fetaures\n",
    "train_data = Pool(data=X_train,\n",
    "                  label=y_train,\n",
    "                  cat_features=cat_features\n",
    "                 )\n",
    "#Creating pool object for test dataset\n",
    "test_data = Pool(data=X_test,\n",
    "                  label=y_test,\n",
    "                  cat_features=cat_features\n",
    "                 )"
   ]
  },
  {
   "cell_type": "code",
   "execution_count": null,
   "id": "9cf815f6",
   "metadata": {},
   "outputs": [],
   "source": [
    "#build model\n",
    "cat_model = CatBoostRegressor(loss_function='RMSE')\n",
    "# Fit model \n",
    "cat_model.fit(train_data)"
   ]
  },
  {
   "cell_type": "code",
   "execution_count": null,
   "id": "da35c4cd",
   "metadata": {},
   "outputs": [],
   "source": [
    "y_train_pred = cat_model.predict(X_train)\n",
    "y_test_pred = cat_model.predict(X_test)\n",
    "def model_score(y_train, y_train_pred, y_test, y_test_pred):\n",
    "    print(\"Training performance\")\n",
    "    mean_sq_error = mean_squared_error(y_train, y_train_pred)\n",
    "    print(\"Mean squared error {:.2f}\".format(mean_sq_error))\n",
    "    rmse = (np.sqrt(mean_squared_error(y_train, y_train_pred)))\n",
    "    print('RMSE: {:.2f}'.format(rmse))\n",
    "    r2_score_ = r2_score(y_train,y_train_pred)\n",
    "    print('r2_score is : {:.2f}'.format(r2_score_))\n",
    "#     mean_absolute_error_ = mean_absolute_error(y_train, y_train_pred)\n",
    "#     print('mean_absolute_error is : {:.2f}'.format(mean_absolute_error_))\n",
    "# #     mean_absolute_percentage_error_ = mean_absolute_percentage_error(y_train, y_train_pred)\n",
    "#     adjusted_r_square = r2AndAdjustedr2(y_train, y_train_pred)\n",
    "#     print(\"Adjusted r square is : {:.2f}\".format(adjusted_r_square))\n",
    "    \n",
    "    print(\"************************\")\n",
    "    print(\"Testing performance\")\n",
    "    mean_sq_error = mean_squared_error(y_test, y_test_pred)\n",
    "    print(\"Mean squared error {:.2f}\".format(mean_sq_error))\n",
    "    rmse = (np.sqrt(mean_squared_error(y_test, y_test_pred)))\n",
    "    print('RMSE: {:.2f}'.format(rmse))\n",
    "    r2_score_ = r2_score(y_test,y_test_pred)\n",
    "    print('r2_score is : {:.2f}'.format(r2_score_))\n",
    "#     mean_absolute_error_ = mean_absolute_error(y_test, y_test_pred)\n",
    "#     print('mean_absolute_error is : {:.2f}'.format(mean_absolute_error_))\n",
    "# #     mean_absolute_percentage_error_ = mean_absolute_percentage_error(y_test, y_test_pred)\n",
    "#     adjusted_r_square = r2AndAdjustedr2(y_test, y_test_pred)\n",
    "#     print(\"Adjusted r square is : {:.2f}\".format(adjusted_r_square))\n",
    "    \n",
    "    \n",
    "    return\n",
    "\n",
    "\n",
    "print(model_score(y_train, y_train_pred, y_test, y_test_pred))"
   ]
  },
  {
   "cell_type": "code",
   "execution_count": null,
   "id": "622b9296",
   "metadata": {},
   "outputs": [],
   "source": [
    "sorted_feature_importance = cat_model.feature_importances_.argsort()\n",
    "plt.barh(X_train.columns[sorted_feature_importance], \n",
    "        cat_model.feature_importances_[sorted_feature_importance], \n",
    "        color='turquoise')\n",
    "plt.xlabel(\"CatBoost Feature Importance\")"
   ]
  },
  {
   "cell_type": "code",
   "execution_count": null,
   "id": "33962d30",
   "metadata": {},
   "outputs": [],
   "source": [
    "y_train = y_train.reset_index(drop=True)\n",
    "y_train_pred = pd.Series(y_train_pred, name=\"Predicted_train_score\").reset_index(drop = True)\n",
    "prediction_on_train_data = pd.concat([y_train, y_train_pred], axis=1)\n",
    "y_test = y_test.reset_index(drop=True)\n",
    "y_test_pred = pd.Series(y_test_pred, name=\"Predicted_test_score\").reset_index(drop = True)\n",
    "prediction_on_test_data = pd.concat([y_test, y_test_pred], axis=1)\n",
    "\n",
    "import seaborn as sns\n",
    "import warnings\n",
    "warnings.filterwarnings(\"ignore\")"
   ]
  },
  {
   "cell_type": "code",
   "execution_count": null,
   "id": "97d18ba3",
   "metadata": {},
   "outputs": [],
   "source": [
    "import seaborn as sns\n",
    "import warnings\n",
    "warnings.filterwarnings(\"ignore\")\n",
    "import matplotlib.style as style \n",
    "style.use(\"ggplot\")\n",
    "plt.figure(figsize=(16,10))\n",
    "sns.scatterplot(prediction_on_train_data[\"Predicted_train_score\"],prediction_on_train_data[\"Score\"])\n",
    "plt.xlabel(\"Predicted train score\")\n",
    "plt.ylabel(\"Actual train score\")\n",
    "plt.title(\"Actual vs Predicted score on the train data points\")\n",
    "\n",
    "\n",
    "print()\n",
    "plt.show()"
   ]
  },
  {
   "cell_type": "code",
   "execution_count": null,
   "id": "e66b6295",
   "metadata": {},
   "outputs": [],
   "source": [
    "import matplotlib.style as style \n",
    "style.use(\"ggplot\")\n",
    "plt.figure(figsize=(16,10))\n",
    "sns.scatterplot(prediction_on_test_data[\"Predicted_test_score\"], prediction_on_test_data[\"Score\"])\n",
    "plt.xlabel(\"Predicted test score\")\n",
    "plt.ylabel(\"Actual test score\")\n",
    "plt.title(\"Actual vs Predicted score on the test data points\")\n",
    "\n",
    "print()\n",
    "plt.show()"
   ]
  },
  {
   "cell_type": "markdown",
   "id": "f3b90888",
   "metadata": {},
   "source": [
    "## Modelling part\n"
   ]
  },
  {
   "cell_type": "code",
   "execution_count": null,
   "id": "b61e33e6",
   "metadata": {},
   "outputs": [],
   "source": [
    "import seaborn as sns\n",
    "# sns.boxplot(x[\"Score\"])\n",
    "x[x[\"Score\"] > 15]"
   ]
  },
  {
   "cell_type": "code",
   "execution_count": null,
   "id": "10128617",
   "metadata": {},
   "outputs": [],
   "source": [
    "x_copy = x[x[\"Score\"] <= 15]"
   ]
  },
  {
   "cell_type": "code",
   "execution_count": null,
   "id": "c2864064",
   "metadata": {},
   "outputs": [],
   "source": [
    "x_copy[\"Score\"].describe()"
   ]
  },
  {
   "cell_type": "code",
   "execution_count": null,
   "id": "9f487ec3",
   "metadata": {},
   "outputs": [],
   "source": [
    "# Clip the target variable\n",
    "# x[\"Score\"] = x[\"Score\"].clip(np.quantile(x[\"Score\"], 0.01), np.quantile(x[\"Score\"], 0.99))"
   ]
  },
  {
   "cell_type": "code",
   "execution_count": null,
   "id": "74b7835c",
   "metadata": {},
   "outputs": [],
   "source": [
    "col_names = ['Score']\n",
    "features = x_copy[col_names]\n",
    "scaler = MinMaxScaler(feature_range=(0,1))\n",
    "x_copy[col_names] = scaler.fit_transform(features.values)\n",
    "x.shape"
   ]
  },
  {
   "cell_type": "code",
   "execution_count": null,
   "id": "bf82503f",
   "metadata": {},
   "outputs": [],
   "source": [
    "x_copy = x_copy.drop_duplicates()\n",
    "x_copy[\"Diagnosis_Code\"] = x_copy[\"Diagnosis_Code\"].astype('category')\n",
    "x_copy[\"Patient_Number\"] = x_copy[\"Patient_Number\"].astype('category')\n",
    "x_copy[\"patient_age\"] = x_copy[\"patient_age\"].astype('int64')\n",
    "x_copy[\"Actual_Dr_Name\"] = x_copy[\"Actual_Dr_Name\"].astype('category')\n",
    "x_copy[\"Place_of_Service_Abbr\"] = x_copy[\"Place_of_Service_Abbr\"].astype('category')\n",
    "x_copy[\"Proc_Category_Abbr\"] = x_copy[\"Proc_Category_Abbr\"].astype('category')\n",
    "x_copy[\"Type_of_Service_Abbr\"] = x_copy[\"Type_of_Service_Abbr\"].astype('category')\n",
    "x_copy[\"patient_zip_code\"] = x_copy[\"patient_zip_code\"].astype('category')\n",
    "x_copy[\"patient_sex\"] = x_copy[\"patient_sex\"].astype('category')\n",
    "x_copy[\"Original_Carrier_Name\"] = x_copy[\"Original_Carrier_Name\"].astype('category')\n",
    "x_copy[\"Patient_City\"] = x_copy[\"Patient_City\"].astype('category')\n",
    "x_copy[\"Patient_State\"] = x[\"Patient_State\"].astype('category')\n",
    "x_copy[\"Diagnosis_Descr\"] = x_copy[\"Diagnosis_Descr\"].astype('category')\n",
    "x_copy[\"CoInsurance\"] = x_copy[\"CoInsurance\"].astype('int64')\n",
    "x_copy[\"CoPayment\"] = x_copy[\"CoPayment\"].astype('int64')\n",
    "x_copy[\"Primary_Diagnosis_Code\"] = x_copy[\"Primary_Diagnosis_Code\"].astype('category')\n",
    "x_copy[\"Procedure_Code\"] = x_copy[\"Procedure_Code\"].astype('category')\n",
    "x_copy[\"Service_Units\"] = x_copy[\"Service_Units\"].astype(\"int64\")\n",
    "x_copy[\"Service_Date_From\"] = pd.to_datetime(x_copy[\"Service_Date_From\"])\n",
    "x_copy[\"Claim_Number\"] = x_copy[\"Claim_Number\"].astype('category')\n",
    "x_copy[\"Original_Billing_Date\"] = pd.to_datetime(x_copy[\"Original_Billing_Date\"])\n",
    "x_copy[\"Date_Paid\"] = pd.to_datetime(x_copy[\"Date_Paid\"])\n",
    "x_copy[\"Claim_Number\"] = x_copy[\"Claim_Number\"].astype('category')\n",
    "\n",
    "x_copy[\"Allowed\"] = x_copy[\"Allowed\"].fillna(0)\n",
    "x_copy[\"Payment_portion_percentage\"] = x_copy[\"Payment_portion_percentage\"] = x_copy[\"Allowed\"] / x_copy[\"Service_Fee\"] * 100\n",
    "\n",
    "x_copy[\"Score\"] = np.round(x_copy[\"Score\"], 2)"
   ]
  },
  {
   "cell_type": "code",
   "execution_count": null,
   "id": "ab9e366d",
   "metadata": {},
   "outputs": [],
   "source": [
    "x_copy.isna().sum()"
   ]
  },
  {
   "cell_type": "code",
   "execution_count": null,
   "id": "0850ff4b",
   "metadata": {},
   "outputs": [],
   "source": [
    "# x[\"Allowed\"] = x[\"Allowed\"].fillna(0)\n",
    "x_copy[\"Payment_portion_percentage\"] = x_copy[\"Payment_portion_percentage\"].fillna(0)\n",
    "x_copy = x_copy.drop([\"Deductible\"], axis=1)\n",
    "from sklearn.impute import SimpleImputer\n",
    "impute = SimpleImputer(strategy='most_frequent')\n",
    "x_copy[\"Original_Carrier_Name\"] = impute.fit_transform(x_copy[[\"Original_Carrier_Name\"]])\n",
    "x_copy.isna().sum()"
   ]
  },
  {
   "cell_type": "code",
   "execution_count": null,
   "id": "4292e8da",
   "metadata": {},
   "outputs": [],
   "source": [
    "x_copy = x_copy.drop(\"Service_ID\", axis=1)\n",
    "y = x_copy[\"Score\"]\n",
    "X = x_copy.drop(\"Score\", axis=1)\n",
    "X_train, X_test, y_train, y_test = train_test_split(X, y, test_size = 0.2, random_state=123)\n",
    "#List of categorical columns\n",
    "categoricalcolumns = X_train.select_dtypes(include=[\"category\", \"object\"]).columns.tolist()\n",
    "print(\"Names of categorical columns : \", categoricalcolumns)\n",
    "#Get location of categorical columns\n",
    "cat_features = [X_train.columns.get_loc(col) for col in categoricalcolumns]\n",
    "print(\"Location of categorical columns : \",cat_features)\n",
    "cat_features = [int(i) for i in cat_features]\n",
    "\n",
    "# importing Pool\n",
    "from catboost import Pool\n",
    "#Creating pool object for train dataset. we give information of categorical fetures to parameter cat_fetaures\n",
    "train_data = Pool(data=X_train,\n",
    "                  label=y_train,\n",
    "                  cat_features=cat_features\n",
    "                 )\n",
    "#Creating pool object for test dataset\n",
    "test_data = Pool(data=X_test,\n",
    "                  label=y_test,\n",
    "                  cat_features=cat_features\n",
    "                 )\n",
    "\n",
    "#build model\n",
    "cat_model = CatBoostRegressor(loss_function='RMSE')\n",
    "# Fit model \n",
    "cat_model.fit(train_data)\n",
    "\n",
    "y_train_pred = cat_model.predict(X_train)\n",
    "y_test_pred = cat_model.predict(X_test)\n",
    "\n",
    "print(model_score(y_train, y_train_pred, y_test, y_test_pred))"
   ]
  },
  {
   "cell_type": "code",
   "execution_count": null,
   "id": "b4e229d3",
   "metadata": {},
   "outputs": [],
   "source": [
    "sorted_feature_importance = cat_model.feature_importances_.argsort()\n",
    "plt.barh(X_train.columns[sorted_feature_importance], \n",
    "        cat_model.feature_importances_[sorted_feature_importance], \n",
    "        color='turquoise')\n",
    "plt.xlabel(\"CatBoost Feature Importance\")"
   ]
  },
  {
   "cell_type": "code",
   "execution_count": null,
   "id": "814e3360",
   "metadata": {},
   "outputs": [],
   "source": [
    "y_train = y_train.reset_index(drop=True)\n",
    "y_train_pred = pd.Series(y_train_pred, name=\"Predicted_train_score\").reset_index(drop = True)\n",
    "prediction_on_train_data = pd.concat([y_train, y_train_pred], axis=1)\n",
    "y_test = y_test.reset_index(drop=True)\n",
    "y_test_pred = pd.Series(y_test_pred, name=\"Predicted_test_score\").reset_index(drop = True)\n",
    "prediction_on_test_data = pd.concat([y_test, y_test_pred], axis=1)"
   ]
  },
  {
   "cell_type": "code",
   "execution_count": null,
   "id": "10e90653",
   "metadata": {},
   "outputs": [],
   "source": [
    "import seaborn as sns\n",
    "import warnings\n",
    "warnings.filterwarnings(\"ignore\")\n",
    "import matplotlib.style as style \n",
    "style.use(\"ggplot\")\n",
    "plt.figure(figsize=(16,10))\n",
    "sns.scatterplot(prediction_on_train_data[\"Predicted_train_score\"],prediction_on_train_data[\"Score\"])\n",
    "plt.xlabel(\"Predicted train score\")\n",
    "plt.ylabel(\"Actual train score\")\n",
    "plt.title(\"Actual vs Predicted score on the train data points\")\n",
    "\n",
    "\n",
    "print()\n",
    "plt.show()"
   ]
  },
  {
   "cell_type": "code",
   "execution_count": null,
   "id": "a7b78f41",
   "metadata": {},
   "outputs": [],
   "source": [
    "import matplotlib.style as style \n",
    "style.use(\"ggplot\")\n",
    "plt.figure(figsize=(16,10))\n",
    "sns.scatterplot(prediction_on_test_data[\"Predicted_test_score\"], prediction_on_test_data[\"Score\"])\n",
    "plt.xlabel(\"Predicted test score\")\n",
    "plt.ylabel(\"Actual test score\")\n",
    "plt.title(\"Actual vs Predicted score on the test data points\")\n",
    "\n",
    "print()\n",
    "plt.show()"
   ]
  },
  {
   "cell_type": "markdown",
   "id": "f4637fde",
   "metadata": {},
   "source": [
    "# Modelling part"
   ]
  },
  {
   "cell_type": "code",
   "execution_count": null,
   "id": "fbca6ca3",
   "metadata": {},
   "outputs": [],
   "source": [
    "x"
   ]
  },
  {
   "cell_type": "code",
   "execution_count": null,
   "id": "dfd81c0d",
   "metadata": {},
   "outputs": [],
   "source": [
    "x.columns"
   ]
  },
  {
   "cell_type": "code",
   "execution_count": null,
   "id": "2d7d55b9",
   "metadata": {},
   "outputs": [],
   "source": [
    "x.info()"
   ]
  },
  {
   "cell_type": "code",
   "execution_count": null,
   "id": "0ba1742d",
   "metadata": {},
   "outputs": [],
   "source": [
    "x[\"Patient_Number\"] = x[\"Patient_Number\"].astype(\"category\")\n",
    "x[\"Original_Carrier_Name\"] = x[\"Original_Carrier_Name\"].astype(\"category\")\n",
    "x[\"Primary_Diagnosis_Code\"] = x[\"Primary_Diagnosis_Code\"].astype(\"category\")\n",
    "x[\"Procedure_Code\"] = x[\"Procedure_Code\"].astype(\"category\")\n",
    "x[\"Service_ID\"] = x[\"Service_ID\"].astype(\"category\")\n",
    "x[\"Actual_Dr_Name\"] = x[\"Actual_Dr_Name\"].astype(\"category\")\n",
    "x[\"Place_of_Service_Abbr\"] = x[\"Place_of_Service_Abbr\"].astype(\"category\")\n",
    "x[\"Proc_Category_Abbr\"] = x[\"Proc_Category_Abbr\"].astype(\"category\")\n",
    "x[\"Type_of_Service_Abbr\"] = x[\"Type_of_Service_Abbr\"].astype(\"category\")\n",
    "x[\"patient_zip_code\"] = x[\"patient_zip_code\"].astype(\"category\")\n",
    "x[\"patient_sex\"] = x[\"patient_sex\"].astype(\"category\")\n",
    "x[\"Patient_City\"] = x[\"Patient_City\"].astype(\"category\")\n",
    "x[\"Patient_State\"] = x[\"Patient_State\"].astype(\"category\")\n",
    "x[\"Diagnosis_Code\"] = x[\"Diagnosis_Code\"].astype(\"category\")\n",
    "x[\"Diagnosis_Descr\"] = x[\"Diagnosis_Descr\"].astype(\"category\")\n",
    "x[\"Service_Date_From\"] = pd.to_datetime(x[\"Service_Date_From\"])\n",
    "x[\"Claim_Number\"] = x[\"Claim_Number\"].astype(\"category\")\n",
    "x[\"Original_Billing_Date\"] = pd.to_datetime(x[\"Original_Billing_Date\"])\n",
    "x[\"Date_Paid\"] = pd.to_datetime(x[\"Date_Paid\"])\n"
   ]
  },
  {
   "cell_type": "code",
   "execution_count": null,
   "id": "715e76dc",
   "metadata": {},
   "outputs": [],
   "source": [
    "x.info()"
   ]
  },
  {
   "cell_type": "code",
   "execution_count": null,
   "id": "765cc6da",
   "metadata": {},
   "outputs": [],
   "source": [
    "num_attr = x.select_dtypes([\"int64\", \"float64\"]).columns.tolist()\n",
    "cat_attr = x.select_dtypes([\"category\"]).columns.tolist()\n",
    "print(cat_attr)\n",
    "print(num_attr)"
   ]
  },
  {
   "cell_type": "code",
   "execution_count": null,
   "id": "e6575e0a",
   "metadata": {},
   "outputs": [],
   "source": [
    "# percentages of uniqueness in the data\n",
    "for col in cat_attr:\n",
    "    res = np.round(x[col].value_counts().count()/ len(x.index) * 100, 2)\n",
    "    print(\"column name \", col ,\" ---->\",res, \"%\")"
   ]
  },
  {
   "cell_type": "code",
   "execution_count": null,
   "id": "014cde9b",
   "metadata": {},
   "outputs": [],
   "source": [
    "x[num_attr].describe()"
   ]
  },
  {
   "cell_type": "code",
   "execution_count": null,
   "id": "3aa4eed2",
   "metadata": {},
   "outputs": [],
   "source": [
    "def stats(x):\n",
    "    x = pd.Series(x)\n",
    "    count = x.count()\n",
    "    nmiss = len(x) - count\n",
    "    Sum = x.sum()\n",
    "    mean = x.mean()\n",
    "    std = x.std()\n",
    "    var = x.var()\n",
    "    Min = x.min()\n",
    "    p5 = x.quantile([0.05]).iloc[0] # its giving series using iloc[0] gives the values for 5%.\n",
    "    p10 = x.quantile([0.1]).iloc[0]\n",
    "    p25 = x.quantile([0.25]).iloc[0]\n",
    "    p50 = x.quantile([0.5]).iloc[0]\n",
    "    p75 = x.quantile([0.75]).iloc[0]\n",
    "    p90 = x.quantile([0.9]).iloc[0]\n",
    "    p95 = x.quantile([0.95]).iloc[0]\n",
    "    p99 = x.quantile([0.99]).iloc[0]\n",
    "    Max = x.max()\n",
    "\n",
    "    #-------------------------------\n",
    "\n",
    "    # Outlier flag\n",
    "\n",
    "    #-------------------------------\n",
    "\n",
    "    IQR = p75 - p25\n",
    "    LC = p25 - 1.5*IQR\n",
    "    UC = p75 + 1.5*IQR\n",
    "    nout = len(x.loc[(x < LC) | (x > UC)])\n",
    "    outlier = np.where(nout == 0,0,1)\n",
    "\n",
    "    #outlier = 0\n",
    "\n",
    "    #-------------------------------\n",
    "    res = [count,nmiss,Sum,mean,std,var,Min,p5,p10,p25,p50,p75,p90,p95,p99,Max,outlier]\n",
    "    ix = [\"count\",\"nmiss\",\"Sum\",\"mean\",\"std\",\"var\",\"Min\",\"p5\",\"p10\",\"p25\",\"p50\",\"p75\",\"p90\",\"p95\",\"p99\",\"Max\",\"outlier\"]\n",
    "    res = pd.Series(res,index=ix)\n",
    "\n",
    "    return res"
   ]
  },
  {
   "cell_type": "code",
   "execution_count": null,
   "id": "6f7557e7",
   "metadata": {},
   "outputs": [],
   "source": [
    "x[num_attr].apply(stats)"
   ]
  },
  {
   "cell_type": "markdown",
   "id": "32d05ec2",
   "metadata": {},
   "source": [
    "* Conclusion :\n",
    "    * Deductibale is coming more than 90 % of numm values so removing those records"
   ]
  },
  {
   "cell_type": "code",
   "execution_count": null,
   "id": "fe833782",
   "metadata": {},
   "outputs": [],
   "source": [
    "# removed deductible column\n",
    "x = x.drop(\"Deductible\", axis=1)\n",
    "# print(x.shape)"
   ]
  },
  {
   "cell_type": "code",
   "execution_count": null,
   "id": "3cad8a38",
   "metadata": {},
   "outputs": [],
   "source": [
    "# only one record was found were co insurance is less than 0\n",
    "x = x[x[\"CoInsurance\"] >= 0]"
   ]
  },
  {
   "cell_type": "code",
   "execution_count": null,
   "id": "1e0fb89f",
   "metadata": {},
   "outputs": [],
   "source": [
    "x.shape"
   ]
  },
  {
   "cell_type": "code",
   "execution_count": null,
   "id": "08d5cf6b",
   "metadata": {},
   "outputs": [],
   "source": [
    "num_attr = x.select_dtypes([\"int64\", \"float64\"]).columns.tolist()\n",
    "x[num_attr].apply(stats)"
   ]
  },
  {
   "cell_type": "code",
   "execution_count": null,
   "id": "7bdf34fc",
   "metadata": {},
   "outputs": [],
   "source": [
    "x = x[x[\"Score\"]<=15]"
   ]
  },
  {
   "cell_type": "code",
   "execution_count": null,
   "id": "d5ad4dd4",
   "metadata": {},
   "outputs": [],
   "source": [
    "num_attr = x.select_dtypes([\"int64\", \"float64\"]).columns.tolist()\n",
    "cat_attr = x.select_dtypes([\"category\"]).columns.tolist()\n",
    "print(cat_attr)\n",
    "print(num_attr)"
   ]
  },
  {
   "cell_type": "code",
   "execution_count": null,
   "id": "db9d7309",
   "metadata": {},
   "outputs": [],
   "source": [
    "x[num_attr].apply(stats)"
   ]
  },
  {
   "cell_type": "code",
   "execution_count": null,
   "id": "57541900",
   "metadata": {},
   "outputs": [],
   "source": [
    "x[\"Payment_Gap_In_Days\"] = x[\"Date_Paid\"] - x[\"Original_Billing_Date\"]\n",
    "x[\"Payment_Gap_In_Days\"] = x[\"Payment_Gap_In_Days\"].apply(lambda x : int(str(x).split(\" \")[0]))\n",
    "\n",
    "x = x.drop([\"Date_Paid\", \"Original_Billing_Date\", \"Service_Date_From\"], axis=1)"
   ]
  },
  {
   "cell_type": "code",
   "execution_count": null,
   "id": "c86cb574",
   "metadata": {},
   "outputs": [],
   "source": [
    "data = x"
   ]
  },
  {
   "cell_type": "code",
   "execution_count": null,
   "id": "0e95082f",
   "metadata": {},
   "outputs": [],
   "source": [
    "data = data[data[\"Payment_Gap_In_Days\"] > 0]"
   ]
  },
  {
   "cell_type": "code",
   "execution_count": null,
   "id": "18b0cd8b",
   "metadata": {},
   "outputs": [],
   "source": [
    "num_attr = x.select_dtypes([\"int64\", \"float64\"]).columns.tolist()\n",
    "cat_attr = x.select_dtypes([\"category\"]).columns.tolist()\n",
    "print(len(cat_attr))\n",
    "print(len(num_attr))\n",
    "# print(data.shape)"
   ]
  },
  {
   "cell_type": "code",
   "execution_count": null,
   "id": "46c444e2",
   "metadata": {},
   "outputs": [],
   "source": [
    "# scaling target variable\n",
    "col_names = ['Score']\n",
    "features = data[col_names]\n",
    "scaler = MinMaxScaler(feature_range=(0,1))\n",
    "data[col_names] = scaler.fit_transform(features.values)"
   ]
  },
  {
   "cell_type": "code",
   "execution_count": null,
   "id": "287ea1eb",
   "metadata": {},
   "outputs": [],
   "source": [
    "y = data.Score\n",
    "X = data.drop([\"Score\"], axis=1)\n"
   ]
  },
  {
   "cell_type": "code",
   "execution_count": null,
   "id": "0b35b48b",
   "metadata": {},
   "outputs": [],
   "source": [
    "num_attr = X.select_dtypes([\"int64\", \"float64\"]).columns.tolist()\n",
    "cat_attr = X.select_dtypes([\"category\"]).columns.tolist()\n",
    "print(len(cat_attr))\n",
    "print(len(num_attr))\n",
    "# print(data.shape)"
   ]
  },
  {
   "cell_type": "code",
   "execution_count": null,
   "id": "ec07f784",
   "metadata": {},
   "outputs": [],
   "source": [
    "num_data_frame = X[num_attr]"
   ]
  },
  {
   "cell_type": "code",
   "execution_count": null,
   "id": "ce324a1d",
   "metadata": {},
   "outputs": [],
   "source": [
    "# outlier removal\n",
    "def outliers(df, ft):\n",
    "    Q1 = df[ft].quantile(0.25)\n",
    "    Q3 = df[ft].quantile(0.75)\n",
    "    IQR = Q3-Q1\n",
    "    \n",
    "    lowerbound = Q1 - (1.5 * IQR)\n",
    "    upperbound = Q3 + (1.5 * IQR)\n",
    "    \n",
    "    ls = df.index[(df[ft] < lowerbound) | (df[ft] > upperbound)]\n",
    "    return ls\n",
    "\n",
    "index_list = []\n",
    "for col in num_attr:\n",
    "    index_list.extend(outliers(num_data_frame, col))\n",
    "    \n",
    "print(num_data_frame.shape)\n",
    "print(len(index_list))\n",
    "    \n",
    "def remove_outliers(X, ls):\n",
    "    ls = sorted(set(index_list))\n",
    "    df = df.drop(ls)\n",
    "    return df"
   ]
  },
  {
   "cell_type": "code",
   "execution_count": null,
   "id": "95da02dd",
   "metadata": {},
   "outputs": [],
   "source": [
    "outlier_data_points = index_list\n",
    "print(outlier_data_points)"
   ]
  },
  {
   "cell_type": "code",
   "execution_count": null,
   "id": "4dd7ec01",
   "metadata": {},
   "outputs": [],
   "source": [
    "# not removing any outlier data points just smoothening the things and checking with models \n",
    "X[num_attr] = X[num_attr].apply(lambda x: x.clip(x.quantile(0.05), x.quantile(0.95)))"
   ]
  },
  {
   "cell_type": "code",
   "execution_count": null,
   "id": "a79a326f",
   "metadata": {},
   "outputs": [],
   "source": [
    "X[num_attr].apply(stats)"
   ]
  },
  {
   "cell_type": "code",
   "execution_count": null,
   "id": "d6ed5285",
   "metadata": {},
   "outputs": [],
   "source": [
    "X.columns"
   ]
  },
  {
   "cell_type": "code",
   "execution_count": null,
   "id": "bb8cf94a",
   "metadata": {},
   "outputs": [],
   "source": [
    "cat_att_col = X.select_dtypes([\"object\", \"category\"]).columns.tolist()\n",
    "num_att_col = X.select_dtypes([\"int64\", \"float64\"]).columns.tolist()\n",
    "\n",
    "print(cat_att_col)\n",
    "print(num_att_col)"
   ]
  },
  {
   "cell_type": "code",
   "execution_count": null,
   "id": "c9cd60c0",
   "metadata": {},
   "outputs": [],
   "source": [
    "for col in cat_att_col:\n",
    "    print(\"column name : \", col,\"---->\" ,data[col].value_counts().count())"
   ]
  },
  {
   "cell_type": "code",
   "execution_count": null,
   "id": "5ebadaf4",
   "metadata": {},
   "outputs": [],
   "source": [
    "X = X.drop(\"Service_ID\", axis=1)"
   ]
  },
  {
   "cell_type": "code",
   "execution_count": null,
   "id": "9cdce38f",
   "metadata": {},
   "outputs": [],
   "source": [
    "X[\"Allowed\"] = X[\"Allowed\"].fillna(0)\n",
    "X[\"Payment_portion_percentage\"] = X[\"Payment_portion_percentage\"] = X[\"Allowed\"] / X[\"Service_Fee\"] * 100\n"
   ]
  },
  {
   "cell_type": "code",
   "execution_count": null,
   "id": "23eb7327",
   "metadata": {},
   "outputs": [],
   "source": [
    "num_attr_col = X.select_dtypes([\"int64\", \"float64\"]).columns.tolist()\n",
    "less_cat_attr_col = [\"Type_of_Service_Abbr\", 'patient_sex']\n",
    "\n",
    "more_cat_attr_col = [\"Patient_Number\", \"Original_Carrier_Name\",\n",
    "                     \"Primary_Diagnosis_Code\",\"Procedure_Code\",\"Actual_Dr_Name\",\"Place_of_Service_Abbr\",\n",
    "                     \"Proc_Category_Abbr\",\"patient_zip_code\", \"Patient_City\", \"Patient_State\", \n",
    "                     \"Diagnosis_Code\", \"Diagnosis_Descr\",\n",
    "                    \"Claim_Number\"]\n",
    "\n"
   ]
  },
  {
   "cell_type": "code",
   "execution_count": null,
   "id": "f2411e65",
   "metadata": {},
   "outputs": [],
   "source": [
    "X_train, X_test, y_train, y_test = train_test_split(X, y,test_size=0.2, random_state=123)\n"
   ]
  },
  {
   "cell_type": "code",
   "execution_count": null,
   "id": "9912c090",
   "metadata": {},
   "outputs": [],
   "source": [
    "print(X_train.shape)\n",
    "print(y_train.shape)\n",
    "print(X_test.shape)\n",
    "print(y_test.shape)"
   ]
  },
  {
   "cell_type": "code",
   "execution_count": null,
   "id": "76b1e173",
   "metadata": {
    "scrolled": true
   },
   "outputs": [],
   "source": [
    "X_train.isna().sum()"
   ]
  },
  {
   "cell_type": "code",
   "execution_count": null,
   "id": "77e0e98c",
   "metadata": {},
   "outputs": [],
   "source": [
    "# catboost model after removing outliers and attributes\n",
    "#List of categorical columns\n",
    "categoricalcolumns = X_train.select_dtypes(include=[\"category\"]).columns.tolist()\n",
    "print(\"Names of categorical columns : \", categoricalcolumns)\n",
    "#Get location of categorical columns\n",
    "cat_features = [X_train.columns.get_loc(col) for col in categoricalcolumns]\n",
    "print(\"Location of categorical columns : \",cat_features)\n",
    "cat_features = [int(i) for i in cat_features]\n",
    "\n",
    "# importing Pool\n",
    "from catboost import Pool\n",
    "#Creating pool object for train dataset. we give information of categorical fetures to parameter cat_fetaures\n",
    "train_data = Pool(data=X_train,\n",
    "                  label=y_train,\n",
    "                  cat_features=cat_features\n",
    "                 )\n",
    "#Creating pool object for test dataset\n",
    "test_data = Pool(data=X_test,\n",
    "                  label=y_test,\n",
    "                  cat_features=cat_features\n",
    "                 )\n",
    "\n",
    "#build model\n",
    "cat_model = CatBoostRegressor(loss_function='RMSE')\n",
    "# Fit model \n",
    "cat_model.fit(train_data)\n",
    "y_train_pred = cat_model.predict(X_train)\n",
    "y_test_pred = cat_model.predict(X_test)\n"
   ]
  },
  {
   "cell_type": "code",
   "execution_count": null,
   "id": "d0a2844f",
   "metadata": {},
   "outputs": [],
   "source": [
    "model_score(y_train, y_train_pred, y_test, y_test_pred)"
   ]
  },
  {
   "cell_type": "code",
   "execution_count": null,
   "id": "852b6bba",
   "metadata": {},
   "outputs": [],
   "source": [
    "sorted_feature_importance = cat_model.feature_importances_.argsort()\n",
    "plt.barh(X_train.columns[sorted_feature_importance], \n",
    "        cat_model.feature_importances_[sorted_feature_importance], \n",
    "        color='turquoise')\n",
    "plt.xlabel(\"CatBoost Feature Importance\")"
   ]
  },
  {
   "cell_type": "code",
   "execution_count": null,
   "id": "94739815",
   "metadata": {},
   "outputs": [],
   "source": []
  },
  {
   "cell_type": "code",
   "execution_count": null,
   "id": "8fdaf028",
   "metadata": {},
   "outputs": [],
   "source": []
  },
  {
   "cell_type": "code",
   "execution_count": null,
   "id": "2b9013e3",
   "metadata": {},
   "outputs": [],
   "source": [
    "scalar_num = StandardScaler()\n",
    "\n",
    "scalar_num.fit(X_train[num_attr_col])\n",
    "X_train_num = pd.DataFrame(scalar_num.transform(X_train[num_attr_col]), columns=num_attr_col).reset_index(drop=True)\n",
    "X_test_num = pd.DataFrame(scalar_num.transform(X_test[num_attr_col]), columns=num_attr_col).reset_index(drop=True)\n",
    "\n",
    "X_train_less_cat = pd.get_dummies(X_train[less_cat_attr_col], prefix_sep=\"_\", drop_first=True).reset_index(drop=True)\n",
    "X_test_less_cat = pd.get_dummies(X_test[less_cat_attr_col], prefix_sep=\"_\", drop_first=True).reset_index(drop=True)"
   ]
  },
  {
   "cell_type": "code",
   "execution_count": null,
   "id": "46730e87",
   "metadata": {},
   "outputs": [],
   "source": [
    "# For more cat levels\n",
    "import category_encoders as ce\n",
    "cbe_encoder = ce.cat_boost.CatBoostEncoder()\n",
    "  \n",
    "# Fit encoder and transform the features\n",
    "cbe_encoder.fit(X_train[more_cat_attr_col], y_train)\n",
    "X_train_more_cat = cbe_encoder.transform(X_train[more_cat_attr_col]).reset_index(drop=True)\n",
    "X_test_more_cat = cbe_encoder.transform(X_test[more_cat_attr_col]).reset_index(drop=True)\n",
    "\n",
    "X_train_final = pd.concat([X_train_num, X_train_less_cat, X_train_more_cat], axis=1)\n",
    "X_test_final = pd.concat([X_test_num, X_test_less_cat, X_test_more_cat], axis=1)"
   ]
  },
  {
   "cell_type": "code",
   "execution_count": null,
   "id": "0f1375dd",
   "metadata": {},
   "outputs": [],
   "source": [
    "X_train_final.shape"
   ]
  },
  {
   "cell_type": "code",
   "execution_count": null,
   "id": "309af0de",
   "metadata": {},
   "outputs": [],
   "source": [
    "y_train.shape"
   ]
  },
  {
   "cell_type": "markdown",
   "id": "8f09cc36",
   "metadata": {},
   "source": [
    "## Do the Different Model at later part"
   ]
  },
  {
   "cell_type": "code",
   "execution_count": null,
   "id": "3f5f1c63",
   "metadata": {},
   "outputs": [],
   "source": [
    "# Linear Regression\n",
    "from sklearn.linear_model import LinearRegression\n",
    "LR_model = LinearRegression()\n",
    "LR_model.fit(X_train_final, y_train)\n",
    "y_train_pred = LR_model.predict(X_train_final)\n",
    "y_test_pred = LR_model.predict(X_test_final)\n",
    "model_score(y_train, y_train_pred, y_test, y_test_pred)"
   ]
  },
  {
   "cell_type": "code",
   "execution_count": null,
   "id": "5242ad41",
   "metadata": {},
   "outputs": [],
   "source": []
  },
  {
   "cell_type": "code",
   "execution_count": null,
   "id": "483a5107",
   "metadata": {},
   "outputs": [],
   "source": []
  },
  {
   "cell_type": "code",
   "execution_count": null,
   "id": "fb971abb",
   "metadata": {},
   "outputs": [],
   "source": [
    "# Decision Tree Regressor\n",
    "\n",
    "from sklearn.tree import DecisionTreeRegressor \n",
    "# create a regressor object\n",
    "Dt_regressor = DecisionTreeRegressor(max_depth=5,random_state = 123) \n",
    "# fit the regressor with X and Y data\n",
    "Dt_regressor.fit(X_train_final, y_train)\n",
    "y_train_pred = Dt_regressor.predict(X_train_final)\n",
    "y_test_pred = Dt_regressor.predict(X_test_final)\n",
    "model_score(y_train, y_train_pred, y_test, y_test_pred)"
   ]
  },
  {
   "cell_type": "code",
   "execution_count": null,
   "id": "d80dcce3",
   "metadata": {},
   "outputs": [],
   "source": [
    "from sklearn.model_selection import GridSearchCV\n",
    "\n",
    "Dt_regressor = DecisionTreeRegressor() \n",
    "\n",
    "parameters={\n",
    "            \"max_depth\" : range(1, 20, 1),\n",
    "           }\n",
    "\n",
    "DT_Hyperparameter_model=GridSearchCV(Dt_regressor,param_grid=parameters,cv=3)\n",
    "\n",
    "DT_Hyperparameter_model.fit(X_train_final, y_train)\n",
    "y_train_pred = DT_Hyperparameter_model.predict(X_train_final)\n",
    "y_test_pred = DT_Hyperparameter_model.predict(X_test_final)\n",
    "model_score(y_train, y_train_pred, y_test, y_test_pred)"
   ]
  },
  {
   "cell_type": "code",
   "execution_count": null,
   "id": "5693f4f0",
   "metadata": {},
   "outputs": [],
   "source": [
    "# Random forest model\n",
    "from sklearn.ensemble import RandomForestRegressor\n",
    "rf_model = RandomForestRegressor()\n",
    "rf_model.fit(X_train_final, y_train)\n",
    "y_train_pred = rf_model.predict(X_train_final)\n",
    "y_test_pred = rf_model.predict(X_test_final)\n",
    "model_score(y_train, y_train_pred, y_test, y_test_pred)"
   ]
  },
  {
   "cell_type": "code",
   "execution_count": null,
   "id": "1a1df7ee",
   "metadata": {},
   "outputs": [],
   "source": [
    "# Random forest hyper parameter tuning\n",
    "rf_model = RandomForestRegressor()\n",
    "\n",
    "param_grid = {'bootstrap': [True, False],\n",
    " 'max_depth': [10, 20, 30, 40, 50, 60, 70, 80, 90, 100, None],\n",
    " 'max_features': ['auto', 'sqrt'],\n",
    " 'min_samples_leaf': [ 2, 4,6, 8,10,12],\n",
    " 'min_samples_split': [2, 5, 10],\n",
    " 'n_estimators': [200, 400, 600, 800]}\n",
    "\n",
    "rf_hyper_parm_tuning = GridSearchCV(rf_model,param_grid=parameters,cv=5)\n",
    "rf_hyper_parm_tuning.fit(X_train_final, y_train)\n",
    "y_train_pred = rf_hyper_parm_tuning.predict(X_train_final)\n",
    "y_test_pred = rf_hyper_parm_tuning.predict(X_test_final)\n",
    "model_score(y_train, y_train_pred, y_test, y_test_pred)"
   ]
  },
  {
   "cell_type": "code",
   "execution_count": null,
   "id": "f23aa260",
   "metadata": {},
   "outputs": [],
   "source": [
    "# Light GBM\n",
    "import lightgbm as lgb\n",
    "hyper_params = {\n",
    "    'task': 'train',\n",
    "    'boosting_type': 'gbdt',\n",
    "    'objective': 'regression',\n",
    "    'metric': ['l1','l2'],\n",
    "    'learning_rate': 0.08,\n",
    "    'bagging_freq': 10,\n",
    "    'verbose': 0,\n",
    "    \"max_depth\": 2,\n",
    "    \"num_leaves\": 10,  \n",
    "    \"max_bin\": 12,\n",
    "    \"num_iterations\": 1000\n",
    "}\n",
    "\n",
    "gbm = lgb.LGBMRegressor(**hyper_params)\n",
    "\n",
    "gbm.fit(X_train_final, y_train,\n",
    "        eval_set=[(X_test_final, y_test)],\n",
    "        eval_metric='l1',\n",
    "        early_stopping_rounds=100)\n",
    "\n",
    "y_train_pred = gbm.predict(X_train_final, num_iteration=gbm.best_iteration_)\n",
    "y_test_pred = gbm.predict(X_test_final, num_iteration=gbm.best_iteration_)\n",
    "\n",
    "\n",
    "model_score(y_train, y_train_pred, y_test, y_test_pred)"
   ]
  },
  {
   "cell_type": "code",
   "execution_count": null,
   "id": "2ec40b28",
   "metadata": {},
   "outputs": [],
   "source": [
    "from xgboost import XGBRegressor\n",
    "xgb_model = XGBRegressor()\n",
    "xgb_model.fit(X_train_final, y_train)\n",
    "\n",
    "y_train_pred = xgb_model.predict(X_train_final)\n",
    "y_test_pred = xgb_model.predict(X_test_final)\n",
    "model_score(y_train, y_train_pred, y_test, y_test_pred)"
   ]
  },
  {
   "cell_type": "markdown",
   "id": "470a1e68",
   "metadata": {},
   "source": [
    "# Django Code "
   ]
  },
  {
   "cell_type": "markdown",
   "id": "fc48371e",
   "metadata": {},
   "source": [
    "## Patient Data"
   ]
  },
  {
   "cell_type": "code",
   "execution_count": null,
   "id": "c71bcb20",
   "metadata": {},
   "outputs": [],
   "source": [
    "import logging\n",
    "from datetime import datetime\n",
    "import pandas as pd\n",
    "import numpy as np\n",
    "from django.db import connection\n",
    "import warnings\n",
    "warnings.filterwarnings(\"ignore\")\n",
    "\n",
    "format = '%Y-%m-%d'\n",
    "logger = logging.getLogger(__name__)\n",
    "\n",
    "\n",
    "class PatientData:\n",
    "    def __init__(self):\n",
    "        self.logger = logging.getLogger(__name__)\n",
    "        self.sName = \"Recommend Procedure Service\"\n",
    "        self.status = 0\n",
    "        extra = {\n",
    "            \"cls_name\": self.__class__.__name__,\n",
    "        }\n",
    "        self.logger = logging.LoggerAdapter(self.logger, extra)\n",
    "\n",
    "\n",
    "    def gethistoricalData(self, patient_id):\n",
    "        \"\"\"\n",
    "        this function will fetch the all records\n",
    "        for the given patient id\n",
    "        :param int patient_id:\n",
    "        :return: a dataframe\n",
    "        \"\"\"\n",
    "        result_dict = {\"response_key\": \"-1\"}\n",
    "        try:\n",
    "\n",
    "            cursor = connection.cursor()\n",
    "            cursor.execute(\"\"\"\n",
    "            select t1.Service_ID,t1.Patient_ID,t1.Patient_Number,d.IMREDEM_CODE,\n",
    "            t3.patient_age, t1.Actual_Dr_Name,t1.Place_of_Service_Abbr,t1.Proc_Category_Abbr,\n",
    "            t1.Type_of_Service_Abbr,t3.patient_zip_code,t3.patient_sex,t1.Original_Carrier_Name, t3.Patient_City,\n",
    "            t3.Patient_State, t5.Diagnosis_Code, t5.Diagnosis_Descr,t2.CoPayment,t2.CoInsurance,\n",
    "            t1.Primary_Diagnosis_Code,t1.Procedure_Code,t1.Service_Units,\n",
    "            convert(Date, t1.Service_Date_From) as Service_Date_From, t1.Claim_Number,\n",
    "            convert(Date, t1.Original_Billing_Date) as Original_Billing_Date,Convert(Date, t2.Date_Paid) as Date_Paid,\n",
    "            t1.Service_Fee,t2.Amount, t2.Allowed, t2.Deductible, t2.Transaction_Type, t4.Abbreviation , \n",
    "            t4.Description, t4.Self_Pay_TranCode\n",
    "            from  vwGenSvcInfo as t1 left join vwGenSvcPmtInfo as t2\n",
    "            on t1.Service_ID = t2.Service_ID \n",
    "            left join\n",
    "            vwGenSvcDiagInfo as t5 on t1.Service_ID = t5.Service_ID\n",
    "            left join\n",
    "            [EMR].[HPSITE].[DEMOGRAPHICS_VIEW] as d on t1.Patient_Number = d.DEM_EXTERNALID\n",
    "            left join vwGenPatInfo as t3 on t1.Patient_Number = t3.Patient_Number\n",
    "            left join [dbo].[vUAI_Transaction_Codes] as t4 on t2.Transaction_Code_Abbr=t4.Abbreviation\n",
    "            left join  dbo.[vUAI_Appointments] as t6 on t1.Voucher_Number = t6.Encounter_Number\n",
    "            where  t1.Primary_Diagnosis_Code between 'E08' and 'E13' and\n",
    "             t5.Diagnosis_Code between 'E08' and 'E13' and t1.Patient_ID= %s \"\"\", (patient_id,))\n",
    "\n",
    "            result = pd.DataFrame([list(elem) for elem in cursor.fetchall()])\n",
    "            result.columns = [\"Service_ID\",\"Patient_ID\",\"Patient_Number\",\"IMREDEM_CODE\",\n",
    "                              \"patient_age\", \"Actual_Dr_Name\",\"Place_of_Service_Abbr\",\"Proc_Category_Abbr\",\n",
    "                              \"Type_of_Service_Abbr\",\"patient_zip_code\",\"patient_sex\",\"Original_Carrier_Name\",\n",
    "                              \"Patient_City\",\"Patient_State\", \"Diagnosis_Code\",\"Diagnosis_Descr\",\n",
    "                              \"CoPayment\",\"CoInsurance\",\"Primary_Diagnosis_Code\",\"Procedure_Code\",\n",
    "                              \"Service_Units\",\"Service_Date_From\", \"Claim_Number\",\n",
    "                              \"Original_Billing_Date\",\"Date_Paid\",\"Service_Fee\",\"Amount\", \"Allowed\",\n",
    "                              \"Deductible\", \"Transaction_Type\", \"Abbreviation\", \"Description\", \"Self_Pay_TranCode\"]\n",
    "\n",
    "            print(\"result\", result)\n",
    "            self.logger.info(\"result == \" + str(result))\n",
    "\n",
    "            if result.empty:\n",
    "                result = {\"no record found\"}\n",
    "            else:\n",
    "                print(\"result == \", result)\n",
    "\n",
    "        except Exception as e:\n",
    "            print(e)\n",
    "            result = {\"failed \"}\n",
    "            # finally:\n",
    "            #     connection.close()\n",
    "        return result\n",
    "\n",
    "    def preProcessingHistoricalData(self,one_patient_data):\n",
    "        \"\"\"\n",
    "                This function returns the one patientof preprocecessed data\n",
    "                :param patient_id:\n",
    "                :return: return aggregation of preprocessed data of the patient in dataframe\n",
    "                \"\"\"\n",
    "        global final_df\n",
    "        try :\n",
    "            one_patient_data[\"Description\"] = one_patient_data[\"Description\"].apply(lambda x: -999 if str(x).startswith(\"Self\") else x)\n",
    "            self_pay_index = one_patient_data.loc[one_patient_data[\"Description\"] == -999].index\n",
    "            one_patient_data = one_patient_data.drop(self_pay_index)\n",
    "\n",
    "            list_of_col_drop = [\"Self Pay Transfer\", \"Self Pay Adjustment\", \"Self Pay Financial Hardship\"]\n",
    "            one_patient_data = one_patient_data[~one_patient_data.Description.isin(list_of_col_drop)]\n",
    "\n",
    "            # drop IMREDEM_COE and Patient_ID keep only Patient_Number\n",
    "            one_patient_data = one_patient_data.drop([\"IMREDEM_CODE\", \"Patient_ID\"], axis=1)\n",
    "\n",
    "            # Preprocessing\n",
    "\n",
    "            one_patient_data = one_patient_data.drop_duplicates() #\n",
    "            # one_patient_data = one_patient_data.loc[one_patient_data[\"Service_Fee\"] > 0]\n",
    "            # one_patient_data = one_patient_data.loc[one_patient_data[\"Original_Billing_Date\"].notna()]\n",
    "            # one_patient_data = one_patient_data.loc[one_patient_data[\"Date_Paid\"].notna()]\n",
    "            index_names = one_patient_data[(one_patient_data['Transaction_Type'] == 'T') & (one_patient_data['Amount']> 0)].index\n",
    "            one_patient_data.drop(index_names, inplace = True)\n",
    "\n",
    "            x = one_patient_data.groupby([\"Service_ID\"], as_index=False).agg({\n",
    "\n",
    "            \"Patient_Number\" : \"first\",\n",
    "            'patient_age': \"max\",\n",
    "            'Actual_Dr_Name':'first',\n",
    "            'Place_of_Service_Abbr':'first',\n",
    "            'Proc_Category_Abbr':'first',\n",
    "            'Type_of_Service_Abbr':'first',\n",
    "            'patient_zip_code': \"first\",\n",
    "            'patient_sex' : \"first\",\n",
    "            'Original_Carrier_Name':\"first\",\n",
    "            'Patient_City':\"first\",\n",
    "            'Patient_State':\"first\",\n",
    "            \"Diagnosis_Code\" : 'first',\n",
    "            \"Diagnosis_Descr\":\"first\",\n",
    "            'CoInsurance':\"sum\",\n",
    "            'CoPayment':\"sum\",\n",
    "            \"Primary_Diagnosis_Code\" : \"first\",\n",
    "            \"Procedure_Code\":\"first\",\n",
    "            'Service_Units':\"sum\",\n",
    "            'Service_Date_From':\"first\",\n",
    "            \"Claim_Number\" : \"first\",\n",
    "            \"Original_Billing_Date\":\"first\",\n",
    "            \"Date_Paid\":'last',\n",
    "            \"Service_Fee\":\"max\",\n",
    "            \"Amount\":\"max\",\n",
    "            'Allowed': 'max',\n",
    "            \"Deductible\":\"max\",\n",
    "            \"Transaction_Type\":\"count\",\n",
    "            })\n",
    "\n",
    "            final_df = x.groupby([\"Patient_Number\", \"Original_Carrier_Name\",\"Primary_Diagnosis_Code\",\"Procedure_Code\"],\n",
    "                                 as_index=False).agg({\n",
    "\n",
    "            \"Service_ID\" : \"first\",\n",
    "        #     \"Patient_Number\" : \"first\",\n",
    "            'patient_age': \"max\",\n",
    "            'Actual_Dr_Name':'first',\n",
    "            'Place_of_Service_Abbr':'first',\n",
    "            'Proc_Category_Abbr':'first',\n",
    "            'Type_of_Service_Abbr':'first',\n",
    "            'patient_zip_code': \"first\",\n",
    "            'patient_sex' : \"first\",\n",
    "        #     'Original_Carrier_Name':\"first\",\n",
    "            'Patient_City':\"first\",\n",
    "            'Patient_State':\"first\",\n",
    "            \"Diagnosis_Code\" : 'first',\n",
    "            \"Diagnosis_Descr\":\"first\",\n",
    "            'CoInsurance':\"sum\",\n",
    "            'CoPayment':\"sum\",\n",
    "        #     \"Primary_Diagnosis_Code\" : \"first\",\n",
    "        #     \"Procedure_Code\":\"first\",\n",
    "            'Service_Units':\"sum\",\n",
    "            'Service_Date_From':\"first\",\n",
    "            \"Claim_Number\" : \"first\",\n",
    "            \"Original_Billing_Date\":\"first\",\n",
    "            \"Date_Paid\":'last',\n",
    "            \"Service_Fee\":\"max\",\n",
    "            \"Amount\":\"max\",\n",
    "            'Allowed': 'max',\n",
    "            \"Deductible\":\"max\",\n",
    "            \"Transaction_Type\":\"count\",\n",
    "\n",
    "        })\n",
    "\n",
    "            return final_df\n",
    "\n",
    "        except Exception as e:\n",
    "            self.logger.exception(str(e))\n",
    "\n",
    "\n",
    "    def patientProcedureCodeFollwedAndNotFollowed(self, history_records_followed, ml_model_aggregated_data,\n",
    "                                                  client_procedure_code):\n",
    "        \"\"\"\n",
    "\n",
    "        :param history_records_followed:\n",
    "        :param ml_model_aggregated_data:\n",
    "        :param client_procedure_code:\n",
    "        :return:\n",
    "        \"\"\"\n",
    "\n",
    "        try:\n",
    "            records_followed = history_records_followed\n",
    "            procedure_code_not_followed = dict()\n",
    "\n",
    "            patient_id = records_followed[\"Patient_Number\"][0]\n",
    "            followed_procedure_code_list = records_followed[\"Procedure_Code\"].value_counts().keys().tolist()\n",
    "\n",
    "            not_followed_procedure_code = []\n",
    "\n",
    "            for proc_code in client_procedure_code:\n",
    "                if proc_code not in followed_procedure_code_list:\n",
    "                    not_followed_procedure_code.append(proc_code)\n",
    "\n",
    "            procedure_code_not_followed[patient_id] = not_followed_procedure_code\n",
    "\n",
    "            patient_age = records_followed[\"patient_age\"].iloc[0]\n",
    "            patient_zip_code = records_followed[\"patient_zip_code\"].iloc[0]\n",
    "\n",
    "            return patient_id, patient_age, patient_zip_code, records_followed, procedure_code_not_followed\n",
    "        except Exception as e:\n",
    "            self.logger.exception(str(e))\n",
    "\n",
    "\n",
    "\n",
    "    def resultantDf(self, final_data, ml_model_aggregated_data, client_procedure_code):\n",
    "        \"\"\"\n",
    "\n",
    "        :param final_data:\n",
    "        :param ml_model_aggregated_data:\n",
    "        :param client_procedure_code:\n",
    "        :return:\n",
    "        \"\"\"\n",
    "\n",
    "        patient_id,patient_age, patient_zip_code, records_followed, procedure_code_not_followed = self.patientProcedureCodeFollwedAndNotFollowed(final_data,\n",
    "                                                                                                                   ml_model_aggregated_data,\n",
    "                                                                                                                   client_procedure_code)\n",
    "\n",
    "        list_of_columns_to_keep = ['Patient_Number', 'Original_Carrier_Name', 'Primary_Diagnosis_Code',\n",
    "                                   'Procedure_Code',\n",
    "                                   'patient_age', 'Actual_Dr_Name', 'Place_of_Service_Abbr',\n",
    "                                   'Proc_Category_Abbr', 'Type_of_Service_Abbr', 'patient_zip_code', 'patient_sex',\n",
    "                                   'Patient_City', 'Patient_State', 'Diagnosis_Code', 'Diagnosis_Descr', 'CoInsurance',\n",
    "                                   'CoPayment', 'Service_Units', 'Service_Date_From', 'Claim_Number',\n",
    "                                   'Original_Billing_Date',\n",
    "                                   'Date_Paid', 'Service_Fee', 'Amount', 'Allowed', 'Deductible', 'Transaction_Type']\n",
    "        try:\n",
    "\n",
    "\n",
    "            # reading data from the final dataset, Either can execute the query for these aggregated data are\n",
    "            # of 5 years records so reading it in excel\n",
    "            list_of_columns_to_keep_df = ml_model_aggregated_data[list_of_columns_to_keep]\n",
    "\n",
    "            # drop the duplicates\n",
    "            list_of_columns_to_keep_df = list_of_columns_to_keep_df.drop_duplicates()\n",
    "\n",
    "            # Remove the white trailing spaces\n",
    "            list_of_columns_to_keep_df[\"Primary_Diagnosis_Code\"] = list_of_columns_to_keep_df[\"Primary_Diagnosis_Code\"].str.strip()\n",
    "\n",
    "            # Collect the unique payor name list\n",
    "            records_followed_payor_name = records_followed[\"Original_Carrier_Name\"].value_counts().keys().tolist()\n",
    "\n",
    "            # Collect the unique primary diagnosis code in list\n",
    "            records_followed_primary_diag_name = records_followed[\"Primary_Diagnosis_Code\"].str.strip().value_counts().keys().tolist()\n",
    "\n",
    "\n",
    "            # Collect the data w.r.t to the payor where one patient is registered(filtering the data w.r.t payor)\n",
    "            resultant_df = pd.DataFrame()\n",
    "            for rec in records_followed_payor_name:\n",
    "                res = list_of_columns_to_keep_df.loc[list_of_columns_to_keep_df[\"Original_Carrier_Name\"] == rec]\n",
    "                resultant_df = resultant_df.append(res)\n",
    "\n",
    "            # filterring the data w.r.to diagnosis code where the patient is suffered\n",
    "            result_df = pd.DataFrame()\n",
    "            for rec in records_followed_primary_diag_name:\n",
    "                res = resultant_df.loc[resultant_df[\"Primary_Diagnosis_Code\"] == rec]\n",
    "                result_df = result_df.append(res)\n",
    "\n",
    "            # List of procedure code where in the history not perfomed by the patient\n",
    "            list_of_procedure_need_to_be_add = procedure_code_not_followed[patient_id]\n",
    "\n",
    "            # dataframe creation where the procedure code not performed\n",
    "            semi_final_df = pd.DataFrame()\n",
    "            for proc in list_of_procedure_need_to_be_add:\n",
    "                res = result_df.loc[result_df[\"Procedure_Code\"] == proc]\n",
    "                semi_final_df = semi_final_df.append(res)\n",
    "\n",
    "            # Procedure code paid by the payor\n",
    "            procedure_code_paid_by_the_registered_payor = semi_final_df[\"Procedure_Code\"].value_counts().keys().tolist()\n",
    "            # procedure code not paid by the payor\n",
    "            procedure_code_not_paid_by_the_registered_payor = []\n",
    "\n",
    "            for proc in list_of_procedure_need_to_be_add:\n",
    "                if proc not in procedure_code_paid_by_the_registered_payor:\n",
    "                    procedure_code_not_paid_by_the_registered_payor.append(proc)\n",
    "\n",
    "            # aggregation required to create a uniqueness of the data records\n",
    "            semi_final_df = semi_final_df.reset_index(drop=True)\n",
    "            semi_final_df = semi_final_df.groupby([\"Original_Carrier_Name\", \"Primary_Diagnosis_Code\", \"Procedure_Code\"]).agg({\n",
    "\n",
    "\n",
    "            'patient_age': \"max\",\n",
    "            'Actual_Dr_Name':'first',\n",
    "            'Place_of_Service_Abbr':'first',\n",
    "            'Proc_Category_Abbr':'first',\n",
    "            'Type_of_Service_Abbr':'first',\n",
    "            'patient_zip_code': \"first\",\n",
    "            'patient_sex' : \"first\",\n",
    "            'Patient_City':\"first\",\n",
    "            'Patient_State':\"first\",\n",
    "            \"Diagnosis_Code\" : 'first',\n",
    "            \"Diagnosis_Descr\":\"first\",\n",
    "            'CoInsurance':\"sum\",\n",
    "            'CoPayment':\"sum\",\n",
    "            'Service_Units':\"sum\",\n",
    "            'Service_Date_From':\"first\",\n",
    "            \"Claim_Number\" : \"first\",\n",
    "            \"Original_Billing_Date\":\"first\",\n",
    "            \"Date_Paid\":'last',\n",
    "            \"Service_Fee\":\"max\",\n",
    "            \"Amount\":\"max\",\n",
    "            'Allowed': 'max',\n",
    "            \"Deductible\":\"max\",\n",
    "            \"Transaction_Type\":\"count\",\n",
    "\n",
    "                }).reset_index()\n",
    "\n",
    "            # Adding the columns where the attributes are required for ML model\n",
    "            semi_final_df[\"Patient_Number\"] = patient_id\n",
    "            semi_final_df[\"patient_age\"] = patient_age\n",
    "            semi_final_df[\"patient_zip_code\"] = patient_zip_code\n",
    "\n",
    "            # Columns need for creating input dataset to the model\n",
    "            columns_needed_for_df = list_of_columns_to_keep\n",
    "\n",
    "            records_followed = records_followed[columns_needed_for_df]\n",
    "\n",
    "            # Rearrange the columns as per the ML model input\n",
    "            semi_final_df = semi_final_df.loc[:,['Patient_Number','Original_Carrier_Name','Primary_Diagnosis_Code','Procedure_Code',\n",
    "                                       'patient_age','Actual_Dr_Name','Place_of_Service_Abbr',\n",
    "                                       'Proc_Category_Abbr','Type_of_Service_Abbr','patient_zip_code','patient_sex',\n",
    "                                       'Patient_City','Patient_State','Diagnosis_Code','Diagnosis_Descr','CoInsurance',\n",
    "                                       'CoPayment','Service_Units','Service_Date_From','Claim_Number','Original_Billing_Date',\n",
    "                                       'Date_Paid','Service_Fee','Amount','Allowed','Deductible','Transaction_Type']]\n",
    "\n",
    "            records_followed = records_followed.reset_index(drop=True)\n",
    "            semi_final_df = semi_final_df.reset_index(drop=True)\n",
    "            final_df = records_followed.append(semi_final_df)\n",
    "            final_df = final_df.reset_index(drop=True)\n",
    "\n",
    "            return final_df, procedure_code_paid_by_the_registered_payor, procedure_code_not_paid_by_the_registered_payor\n",
    "\n",
    "        except Exception as e:\n",
    "            self.logger.exception(str(e))\n",
    "\n",
    "\n",
    "\n",
    "\n",
    "    def DataPreperationAndModelPrediction(self,df, model):\n",
    "        \"\"\"\n",
    "\n",
    "        :param df:\n",
    "        :param model:\n",
    "        :return:\n",
    "        \"\"\"\n",
    "        ml_reccomenation = dict()\n",
    "        patient_number = -1\n",
    "        try:\n",
    "\n",
    "            df[\"Patient_Number\"] = df[\"Patient_Number\"].astype(\"category\")\n",
    "            df[\"Original_Carrier_Name\"] = df[\"Original_Carrier_Name\"].astype(\"category\")\n",
    "            df[\"Primary_Diagnosis_Code\"] = df[\"Primary_Diagnosis_Code\"].astype(\"category\")\n",
    "            df[\"Procedure_Code\"] = df[\"Procedure_Code\"].astype(\"category\")\n",
    "\n",
    "            df[\"Actual_Dr_Name\"] = df[\"Actual_Dr_Name\"].astype(\"category\")\n",
    "            df[\"Place_of_Service_Abbr\"] = df[\"Place_of_Service_Abbr\"].astype(\"category\")\n",
    "            df[\"Proc_Category_Abbr\"] = df[\"Proc_Category_Abbr\"].astype(\"category\")\n",
    "            df[\"Type_of_Service_Abbr\"] = df[\"Type_of_Service_Abbr\"].astype(\"category\")\n",
    "            df[\"patient_zip_code\"] = df[\"patient_zip_code\"].astype(\"category\")\n",
    "            df[\"patient_sex\"] = df[\"patient_sex\"].astype(\"category\")\n",
    "            df[\"Patient_City\"] = df[\"Patient_City\"].astype(\"category\")\n",
    "            df[\"Patient_State\"] = df[\"Patient_State\"].astype(\"category\")\n",
    "            df[\"Diagnosis_Code\"] = df[\"Diagnosis_Code\"].astype(\"category\")\n",
    "            df[\"Diagnosis_Descr\"] = df[\"Diagnosis_Descr\"].astype(\"category\")\n",
    "            df[\"Service_Date_From\"] = pd.to_datetime(df[\"Service_Date_From\"])\n",
    "            df[\"Claim_Number\"] = df[\"Claim_Number\"].astype(\"category\")\n",
    "            df[\"Original_Billing_Date\"] = pd.to_datetime(df[\"Original_Billing_Date\"])\n",
    "            df[\"Date_Paid\"] = pd.to_datetime(df[\"Date_Paid\"])\n",
    "            patient_number = df.loc[:, \"Patient_Number\"][0]\n",
    "\n",
    "            # Filter the records where service fee is greater than 0\n",
    "            df = df.loc[df[\"Service_Fee\"] > 0]\n",
    "\n",
    "            # Filter the records where original billing date ad date paid column is coming null\n",
    "            df = df.loc[df[\"Original_Billing_Date\"].notna()]\n",
    "            df = df.loc[df[\"Date_Paid\"].notna()]\n",
    "            # Drop deductible column\n",
    "            df = df.drop(\"Deductible\", axis=1)\n",
    "            # only one record was found were co insurance is less than 0\n",
    "            # df = df[df[\"CoInsurance\"] >= 0]\n",
    "\n",
    "\n",
    "            # Create a new feature\n",
    "            df[\"Payment_Gap_In_Days\"] = df[\"Date_Paid\"] - df[\"Original_Billing_Date\"]\n",
    "            df[\"Payment_Gap_In_Days\"] = df[\"Payment_Gap_In_Days\"].apply(lambda x : int(str(x).split(\" \")[0]))\n",
    "\n",
    "            # Drop These features\n",
    "            df = df.drop([\"Date_Paid\", \"Original_Billing_Date\", \"Service_Date_From\"], axis=1)\n",
    "            # print(df)\n",
    "\n",
    "            # Take the payment gap greater than 0 days\n",
    "            # df = df[df[\"Payment_Gap_In_Days\"] > 0]\n",
    "\n",
    "             # Fill the allowed column to be 0\n",
    "            df[\"Allowed\"] = df[\"Allowed\"].fillna(0)\n",
    "            df[\"CoInsurance\"] = df[\"CoInsurance\"].fillna(0)\n",
    "\n",
    "\n",
    "            # convert the data types\n",
    "            df[\"Allowed\"] = df[\"Allowed\"].astype(\"float64\")\n",
    "            df[\"Service_Fee\"] = df[\"Service_Fee\"].astype(\"float64\")\n",
    "            # Derive the new feature payment portion percentage\n",
    "            df[\"Payment_portion_percentage\"] = ((df[\"Allowed\"] / df[\"Service_Fee\"]) * 100)\n",
    "            if df.empty:\n",
    "                return ml_reccomenation, patient_number\n",
    "\n",
    "\n",
    "            prediction = model.predict(df)\n",
    "            prediction = np.round(prediction, 2)\n",
    "            df = df.reset_index(drop=True)\n",
    "            df[\"Predicted_Score\"] = pd.Series(prediction, name=\"Predicted_Score\")\n",
    "\n",
    "\n",
    "            df = df.sort_values([\"Predicted_Score\"], ascending=False)\n",
    "\n",
    "            result = df.loc[:,[\"Procedure_Code\",\"Predicted_Score\"]]\n",
    "            result = result.loc[result[\"Predicted_Score\"] >= 0]\n",
    "\n",
    "            print(result)\n",
    "\n",
    "\n",
    "\n",
    "            res_dict = dict()\n",
    "            for col in result.columns:\n",
    "                res_dict[col] = result[col].values.tolist()\n",
    "            ml_reccomenation[patient_number] = res_dict\n",
    "\n",
    "        except Exception as e:\n",
    "            self.logger.exception(str(e))\n",
    "\n",
    "        return ml_reccomenation, patient_number\n",
    "\n",
    "\n",
    "\n"
   ]
  },
  {
   "cell_type": "markdown",
   "id": "dc50497c",
   "metadata": {},
   "source": [
    "## Views"
   ]
  },
  {
   "cell_type": "code",
   "execution_count": null,
   "id": "c8a88210",
   "metadata": {},
   "outputs": [],
   "source": [
    "import logging\n",
    "import os\n",
    "import pickle\n",
    "import time\n",
    "\n",
    "\n",
    "from django.conf import settings\n",
    "from django.http import HttpResponse\n",
    "from rest_framework.response import Response\n",
    "from rest_framework.views import APIView\n",
    "\n",
    "from .Integration import Integration\n",
    "from .ResponseJson import ResponseJson\n",
    "from .errorcode import ErrorCodes\n",
    "\n",
    "from configparser import ConfigParser\n",
    "from .InputRequestValidation import InputRequestValidation\n",
    "from .PatientData import PatientData\n",
    "import pandas as pd\n",
    "import numpy as np\n",
    "import warnings\n",
    "warnings.filterwarnings(\"ignore\")\n",
    "\n",
    "\n",
    "epic_rules_data = pd.read_excel(r\"C:/Users/mbv/Desktop/MLProject/CPDS-Lite/PredictionEngine/PredictionEngineService/PredictionEngineServiceApp/config/EPIC_RULES.xlsx\")\n",
    "model_aggregated_data = pd.read_excel(r\"C:/Users/mbv/Desktop/MLProject/CPDS-Lite/PredictionEngine/PredictionEngineService/PredictionEngineServiceApp/config/Ml_model_aggregated_data.xlsx\")\n",
    "cat_model = pickle.load(open(\"C:/Users/mbv/Desktop/MLProject/CPDS-Lite/PredictionEngine/PredictionEngineService/PredictionEngineServiceApp/config/catboost_model1.pkl\", \"rb\"))\n",
    "\n",
    "\n",
    "# config = ConfigParser()\n",
    "# config.read(\"../proxy/config.ini\")\n",
    "# print(config[\"path\"][\"ml_data_path\"])\n",
    "log_dir = settings.LOG_DIR\n",
    "# data = pd.read_excel(config[\"path\"][\"ml_data_path\"])\n",
    "# print(data.head())\n",
    "# print(\"***************\")\n",
    "\n",
    "log_dir = settings.LOG_DIR\n",
    "\n",
    "def log_file(self):\n",
    "    try:\n",
    "        file_name = \"PredictionEngine\" + \".log\"\n",
    "        f = open(os.path.join(log_dir, file_name), \"r\")\n",
    "        file_contents = f.read()\n",
    "        f.close()\n",
    "        return HttpResponse(file_contents, content_type=\"text/plain\")\n",
    "    except Exception as e:\n",
    "        return HttpResponse(str(e), content_type=\"text/plain\")\n",
    "\n",
    "\n",
    "class PredictProcedure(APIView):\n",
    "    '''\n",
    "        This View takes two numbers as input and does addition of two numbers\n",
    "        and provides the sum as output\n",
    "    '''\n",
    "\n",
    "    def __init__(self):\n",
    "        self.logger = logging.getLogger(__name__)\n",
    "        self.errorObj = ErrorCodes()\n",
    "        self.responseObj = ResponseJson()\n",
    "        self.s_Name = \"Recommend Procedure Service\"\n",
    "        self.status = 0\n",
    "        self.patient_id = \"-1\"\n",
    "        self.recommended_code = {}\n",
    "        extra = {\n",
    "            \"cls_name\": self.__class__.__name__,\n",
    "        }\n",
    "        self.logger = logging.LoggerAdapter(self.logger, extra)\n",
    "\n",
    "    def post(self, request, patientId = None):\n",
    "        start_time = time.time()\n",
    "        request_data = request.data\n",
    "        # TODO:: update the Input request Validation\n",
    "        input_request_validation_obj = InputRequestValidation()\n",
    "        print(\"request_data\", request_data)\n",
    "        try:\n",
    "            self.logger.info(\"Predict Procedure Started\")\n",
    "\n",
    "            patient_id = request_data[\"Patient_ID\"]\n",
    "            rule_engine_recommended_code = request_data[\"Rule_Engine_Recommended_Code\"]\n",
    "\n",
    "            # latest_app_date = request_data[\"Latest_Appointment_Date\"]\n",
    "\n",
    "            # TODO:: write pre-processing function and then model execution function.\n",
    "            patient_df = PatientData().gethistoricalData(patient_id)\n",
    "            # print(patient_df)\n",
    "            # Passing the single patient df to preprocessing data, preparing data for historically followed procedure code\n",
    "            aggregated_data_of_one_patient_records = PatientData().preProcessingHistoricalData(patient_df)\n",
    "\n",
    "            # print(aggregated_data_of_one_patient_records)\n",
    "            epic_rules = epic_rules_data[\"Procedure_Code\"].value_counts().keys().tolist()\n",
    "            epic_rules = [str(code) for code in epic_rules]\n",
    "            final_df, procedure_code_paid_by_the_registered_payor, procedure_code_not_paid_by_the_registered_payor = PatientData().resultantDf(aggregated_data_of_one_patient_records,\n",
    "                                                                    model_aggregated_data,\n",
    "                                                                    epic_rules)\n",
    "            ml_reccemendation,patient_number  = PatientData().DataPreperationAndModelPrediction(final_df, cat_model)\n",
    "            print(ml_reccemendation, patient_number)\n",
    "            final_recomendation = Integration().integration(rule_engine_recommended_code, ml_reccemendation, patient_id, patient_number)\n",
    "\n",
    "            print(final_recomendation)\n",
    "            self.logger.info(patient_df.head())\n",
    "        # finally:\n",
    "        #     print(result)\n",
    "            end_time = time.time()\n",
    "            self.status = 200\n",
    "            self.patient_id = patient_id\n",
    "            #TODO:: remove hard coded data\n",
    "            self.recommended_code = final_recomendation\n",
    "\n",
    "        except Exception as e:\n",
    "            end_time = time.time()\n",
    "            self.logger.exception(e)\n",
    "            self.status = 210\n",
    "\n",
    "        if self.status == 200:\n",
    "            status_msg = self.errorObj.SuccessMsg\n",
    "        else:\n",
    "            status_msg = self.errorObj.FailureMsg\n",
    "\n",
    "        response = self.responseObj.response_json_object(\n",
    "            self.s_Name\n",
    "            + str(self.errorObj.return_error_message(str(self.status))),\n",
    "            end_time - start_time,\n",
    "            self.status,\n",
    "            status_msg,  str(self.patient_id),\n",
    "            str(self.recommended_code)\n",
    "        )\n",
    "        return Response(response)\n",
    "\n",
    "\n",
    "\n"
   ]
  },
  {
   "cell_type": "markdown",
   "id": "c2dd2ddb",
   "metadata": {},
   "source": [
    "## Intigration"
   ]
  },
  {
   "cell_type": "code",
   "execution_count": null,
   "id": "58b6d9fe",
   "metadata": {},
   "outputs": [],
   "source": [
    "\n",
    "\n",
    "import pandas as pd\n",
    "\n",
    "class Integration:\n",
    "\n",
    "    def integration(self,rule_engine_recommended_code, ml_reccemendation, Patient_ID, patient_number):\n",
    "        '''takes dictionary, lists, patient id as inputs and returns pandas dataframe'''\n",
    "\n",
    "        resultant_df = dict()\n",
    "        if len(ml_reccemendation) != 0 :\n",
    "\n",
    "            pro_code_l1 = ml_reccemendation[patient_number][\"Procedure_Code\"]\n",
    "            score_l1 = ml_reccemendation[patient_number][\"Predicted_Score\"]\n",
    "\n",
    "            procedure_code2 = []\n",
    "            score2 = []\n",
    "\n",
    "            for k, v in rule_engine_recommended_code.items():\n",
    "                procedure_code2.append(k)\n",
    "                score2.append(v)\n",
    "\n",
    "            for i in procedure_code2:\n",
    "                pro_code_l1.append(i)\n",
    "            for i in score2:\n",
    "                score_l1.append(i)\n",
    "\n",
    "            # creating a mesh of keys with empty values list\n",
    "            res = {key: [] for key in pro_code_l1}\n",
    "\n",
    "            # loop to iterate through keys and values\n",
    "            for key, val in zip(pro_code_l1, score_l1):\n",
    "                res[key].append(val)\n",
    "\n",
    "            for k, v in res.items():\n",
    "                if res[k][0] in [str(0), str(1)]:\n",
    "                    res[k].insert(0, None)\n",
    "\n",
    "            final_proc_codes = pd.DataFrame(list(res.values()), index=res.keys())\n",
    "            final_proc_codes[\"Patient_ID\"] = Patient_ID\n",
    "            final_proc_codes.reset_index(inplace=True)\n",
    "            final_proc_codes.rename(columns={'index': 'Proc_code', 0: 'Pred_score', 1: 'Eligibility'}, inplace=True)\n",
    "            final_proc_codes['Pred_score'] = final_proc_codes['Pred_score'].fillna(0)\n",
    "            final_proc_codes = final_proc_codes.query(\"Eligibility=='1'\")\n",
    "            final_proc_codes = final_proc_codes.reset_index(drop=True)  # Applying reset_index function\n",
    "            first_column = final_proc_codes.pop('Patient_ID')\n",
    "            final_proc_codes.insert(0, 'Patient_ID', first_column)\n",
    "\n",
    "            final_proc_codes = final_proc_codes.loc[:,[\"Proc_code\", \"Pred_score\"]]\n",
    "            res = final_proc_codes.to_dict(\"list\")\n",
    "\n",
    "            resultant_df[patient_number] = res\n",
    "            return resultant_df\n",
    "        else:\n",
    "            Proc_code = list(rule_engine_recommended_code.keys())\n",
    "            Pred_score = [0 for i in range(len(rule_engine_recommended_code.keys()))]\n",
    "            final_proc_codes = pd.concat([pd.Series(Proc_code, name=\"Proc_code\"), pd.Series(Pred_score, name=\"Pred_score\")], axis=1)\n",
    "            res = final_proc_codes.to_dict(\"list\")\n",
    "\n",
    "            resultant_df[patient_number] = res\n",
    "            return resultant_df\n",
    "\n",
    "\n",
    "\n"
   ]
  },
  {
   "cell_type": "markdown",
   "id": "4d453f8b",
   "metadata": {},
   "source": [
    "## Input Request Validation"
   ]
  },
  {
   "cell_type": "code",
   "execution_count": 1,
   "id": "ea2010f6",
   "metadata": {},
   "outputs": [],
   "source": [
    "\"\"\"\n",
    "__author__ = \"Ravikanth\"\n",
    "__version__ =\"1.0\"\n",
    "__date__ = \"15-04-2022\"\n",
    "__copyright__ = \"©2022 quadratyx\"\n",
    "\n",
    "\"\"\"\n",
    "\n",
    "import logging\n",
    "import sys\n",
    "import os\n",
    "\n",
    "\n",
    "\n",
    "import logging\n",
    "import sys\n",
    "import os\n",
    "import datetime\n",
    "from datetime import datetime, time, date\n",
    "format = '%Y/%m/%d'\n",
    "\n",
    "\n",
    "class InputRequestValidation:\n",
    "    \"\"\"\n",
    "    This class defines the functions for validating Input Json from Rest API\n",
    "    \"\"\"\n",
    "\n",
    "    def __init__(self):\n",
    "        \"\"\"To initiate logger variable\"\"\"\n",
    "        self.logger = logging.getLogger(__name__)\n",
    "        extra = {\n",
    "            \"cls_name\": self.__class__.__name__,\n",
    "        }\n",
    "        self.logger = logging.LoggerAdapter(self.logger, extra)\n",
    "\n",
    "    def request_validation(self, request):\n",
    "        \"\"\"\n",
    "        :param request:\n",
    "        :return:\n",
    "        \"\"\"\n",
    "        # Validating Input Request Json\n",
    "        input_signature = [\n",
    "            \"Patient_id\",\"appointment_date\"\n",
    "        ]\n",
    "        flag = 0\n",
    "        try:\n",
    "            if all(field in request for field in input_signature):\n",
    "                if not (isinstance(request[\"patient_id\"], int)):\n",
    "                    self.logger.error(\"patient_id TypeError:Expecting Integer\")\n",
    "                    flag = 1\n",
    "                else:\n",
    "                    if request[\"patient_id\"] <=0:\n",
    "                        self.logger.error(\"patient_id is not in the specified range\")\n",
    "                        flag = 1\n",
    "                if not (isinstance(request[\"appointment_date\"], datetime)):\n",
    "                    self.logger.error(\"appointment_date TypeError:Expecting date format\")\n",
    "                    flag = 1\n",
    "                else:\n",
    "                     datetime.strptime(request[\"appointment_date\"], \"%Y-%m-%d\")\n",
    "                     print(request[\"appointment_date\"])\n",
    "            else:\n",
    "                flag = 1\n",
    "                self.logger.error(\"Missing required fields in input_signature\")\n",
    "            if flag == 1:\n",
    "                return \"not valid parameters\"\n",
    "            else:\n",
    "                return \"valid\"\n",
    "        except Exception as e:\n",
    "            exc_type, exc_obj, exc_tb = sys.exc_info()\n",
    "            f_name = os.path.split(exc_tb.tb_frame.f_code.co_filename)[1]\n",
    "            self.logger.error(str([exc_type, f_name, exc_tb.tb_lineno]))\n",
    "            self.logger.error(str(e))\n",
    "            return \"internal error\"\n"
   ]
  },
  {
   "cell_type": "markdown",
   "id": "75ed3064",
   "metadata": {},
   "source": [
    "## Settings"
   ]
  },
  {
   "cell_type": "code",
   "execution_count": 2,
   "id": "158e7ac0",
   "metadata": {},
   "outputs": [
    {
     "ename": "NameError",
     "evalue": "name '__file__' is not defined",
     "output_type": "error",
     "traceback": [
      "\u001b[1;31m---------------------------------------------------------------------------\u001b[0m",
      "\u001b[1;31mNameError\u001b[0m                                 Traceback (most recent call last)",
      "\u001b[1;32m~\\AppData\\Local\\Temp/ipykernel_19292/1492882128.py\u001b[0m in \u001b[0;36m<module>\u001b[1;34m\u001b[0m\n\u001b[0;32m     14\u001b[0m \u001b[1;33m\u001b[0m\u001b[0m\n\u001b[0;32m     15\u001b[0m \u001b[1;31m# Build paths inside the project like this: os.path.join(BASE_DIR, ...)\u001b[0m\u001b[1;33m\u001b[0m\u001b[1;33m\u001b[0m\u001b[0m\n\u001b[1;32m---> 16\u001b[1;33m \u001b[0mBASE_DIR\u001b[0m \u001b[1;33m=\u001b[0m \u001b[0mos\u001b[0m\u001b[1;33m.\u001b[0m\u001b[0mpath\u001b[0m\u001b[1;33m.\u001b[0m\u001b[0mdirname\u001b[0m\u001b[1;33m(\u001b[0m\u001b[0mos\u001b[0m\u001b[1;33m.\u001b[0m\u001b[0mpath\u001b[0m\u001b[1;33m.\u001b[0m\u001b[0mdirname\u001b[0m\u001b[1;33m(\u001b[0m\u001b[0mos\u001b[0m\u001b[1;33m.\u001b[0m\u001b[0mpath\u001b[0m\u001b[1;33m.\u001b[0m\u001b[0mabspath\u001b[0m\u001b[1;33m(\u001b[0m\u001b[0m__file__\u001b[0m\u001b[1;33m)\u001b[0m\u001b[1;33m)\u001b[0m\u001b[1;33m)\u001b[0m\u001b[1;33m\u001b[0m\u001b[1;33m\u001b[0m\u001b[0m\n\u001b[0m\u001b[0;32m     17\u001b[0m \u001b[0mMICRO_SERVICE_NAME\u001b[0m \u001b[1;33m=\u001b[0m \u001b[1;34m'PredictionEngine'\u001b[0m\u001b[1;33m\u001b[0m\u001b[1;33m\u001b[0m\u001b[0m\n\u001b[0;32m     18\u001b[0m \u001b[0mLOG_DIR\u001b[0m \u001b[1;33m=\u001b[0m \u001b[0mos\u001b[0m\u001b[1;33m.\u001b[0m\u001b[0mpath\u001b[0m\u001b[1;33m.\u001b[0m\u001b[0mjoin\u001b[0m\u001b[1;33m(\u001b[0m\u001b[0mBASE_DIR\u001b[0m\u001b[1;33m,\u001b[0m \u001b[1;34mf'{MICRO_SERVICE_NAME}App/log'\u001b[0m\u001b[1;33m)\u001b[0m\u001b[1;33m\u001b[0m\u001b[1;33m\u001b[0m\u001b[0m\n",
      "\u001b[1;31mNameError\u001b[0m: name '__file__' is not defined"
     ]
    }
   ],
   "source": [
    "\"\"\"\n",
    "Django settings for DistanceCalculator project.\n",
    "\n",
    "Generated by 'django-admin startproject' using Django 2.2.\n",
    "\n",
    "For more information on this file, see\n",
    "https://docs.djangoproject.com/en/2.2/topics/settings/\n",
    "\n",
    "For the full list of settings and their values, see\n",
    "https://docs.djangoproject.com/en/2.2/ref/settings/\n",
    "\"\"\"\n",
    "\n",
    "import os\n",
    "\n",
    "# Build paths inside the project like this: os.path.join(BASE_DIR, ...)\n",
    "BASE_DIR = os.path.dirname(os.path.dirname(os.path.abspath(__file__)))\n",
    "MICRO_SERVICE_NAME = 'PredictionEngine'\n",
    "LOG_DIR = os.path.join(BASE_DIR, f'{MICRO_SERVICE_NAME}App/log')\n",
    "LOG_FILE = MICRO_SERVICE_NAME + '.log'\n",
    "try:\n",
    "    if not os.path.exists(LOG_DIR):\n",
    "        os.makedirs(LOG_DIR)\n",
    "except OSError as e:\n",
    "    raise\n",
    "\n",
    "\n",
    "# Quick-start development settings - unsuitable for production\n",
    "# See https://docs.djangoproject.com/en/2.2/howto/deployment/checklist/\n",
    "\n",
    "# SECURITY WARNING: keep the secret key used in production secret!\n",
    "SECRET_KEY = os.environ.get('SECRET_KEY', 'changeme')\n",
    "\n",
    "# SECURITY WARNING: don't run with debug turned on in production!\n",
    "DEBUG = bool(int(os.environ.get('DEBUG', 0)))\n",
    "\n",
    "ALLOWED_HOSTS = ['*']\n",
    "ALLOWED_HOSTS_ENV = os.environ.get('DJANGO_ALLOWED_HOSTS')\n",
    "if ALLOWED_HOSTS_ENV:\n",
    "    ALLOWED_HOSTS.extend(ALLOWED_HOSTS_ENV.split(','))\n",
    "\n",
    "\n",
    "# Application definition\n",
    "\n",
    "INSTALLED_APPS = [\n",
    "    'django.contrib.admin',\n",
    "    'django.contrib.auth',\n",
    "    'django.contrib.contenttypes',\n",
    "    'django.contrib.sessions',\n",
    "    'django.contrib.messages',\n",
    "    'django.contrib.staticfiles',\n",
    "    'PredictionEngineServiceApp',\n",
    "]\n",
    "\n",
    "MIDDLEWARE = [\n",
    "    'django.middleware.security.SecurityMiddleware',\n",
    "    'django.contrib.sessions.middleware.SessionMiddleware',\n",
    "    'django.middleware.common.CommonMiddleware',\n",
    "    'django.middleware.csrf.CsrfViewMiddleware',\n",
    "    'django.contrib.auth.middleware.AuthenticationMiddleware',\n",
    "    'django.contrib.messages.middleware.MessageMiddleware',\n",
    "    'django.middleware.clickjacking.XFrameOptionsMiddleware',\n",
    "]\n",
    "\n",
    "ROOT_URLCONF = 'PredictionEngineService.urls'\n",
    "\n",
    "TEMPLATES = [\n",
    "    {\n",
    "        'BACKEND': 'django.template.backends.django.DjangoTemplates',\n",
    "        'DIRS': [],\n",
    "        'APP_DIRS': True,\n",
    "        'OPTIONS': {\n",
    "            'context_processors': [\n",
    "                'django.template.context_processors.debug',\n",
    "                'django.template.context_processors.request',\n",
    "                'django.contrib.auth.context_processors.auth',\n",
    "                'django.contrib.messages.context_processors.messages',\n",
    "            ],\n",
    "        },\n",
    "    },\n",
    "]\n",
    "\n",
    "WSGI_APPLICATION = 'PredictionEngineService.wsgi.application'\n",
    "\n",
    "\n",
    "# Database\n",
    "# https://docs.djangoproject.com/en/2.2/ref/settings/#databases\n",
    "\n",
    "DATABASES = {\n",
    "    \"default\": {\n",
    "        \"ENGINE\": \"mssql\",\n",
    "        \"NAME\": \"Ntier_EPIC\",\n",
    "        \"USER\": \"Sisenseuser\",\n",
    "        \"PASSWORD\": \"!w@ntd@t@#123\",\n",
    "        \"HOST\": \"10.0.1.40\",\n",
    "        \"PORT\": \"1433\",\n",
    "        \"OPTIONS\": {\"driver\": \"ODBC Driver 17 for SQL Server\",\n",
    "        },\n",
    "    },\n",
    "}\n",
    "\n",
    "# Password validation\n",
    "# https://docs.djangoproject.com/en/2.2/ref/settings/#auth-password-validators\n",
    "\n",
    "AUTH_PASSWORD_VALIDATORS = [\n",
    "    {\n",
    "        'NAME': 'django.contrib.auth.password_validation.UserAttributeSimilarityValidator',\n",
    "    },\n",
    "    {\n",
    "        'NAME': 'django.contrib.auth.password_validation.MinimumLengthValidator',\n",
    "    },\n",
    "    {\n",
    "        'NAME': 'django.contrib.auth.password_validation.CommonPasswordValidator',\n",
    "    },\n",
    "    {\n",
    "        'NAME': 'django.contrib.auth.password_validation.NumericPasswordValidator',\n",
    "    },\n",
    "]\n",
    "\n",
    "\n",
    "# Internationalization\n",
    "# https://docs.djangoproject.com/en/2.2/topics/i18n/\n",
    "\n",
    "LANGUAGE_CODE = 'en-us'\n",
    "\n",
    "TIME_ZONE = 'UTC'\n",
    "\n",
    "USE_I18N = True\n",
    "\n",
    "USE_L10N = True\n",
    "\n",
    "USE_TZ = True\n",
    "\n",
    "\n",
    "# Static files (CSS, JavaScript, Images)\n",
    "# https://docs.djangoproject.com/en/2.2/howto/static-files/\n",
    "\n",
    "STATIC_URL = '/static/static/'\n",
    "MEDIA_URL = '/static/media/'\n",
    "\n",
    "STATIC_ROOT = '/vol/web/static'\n",
    "MEDIA_ROOT = '/vol/web/media'\n",
    "\n",
    "\n",
    "# Logging configuration\n",
    "LOGGING = {\n",
    "    'version': 1,\n",
    "    'disable_existing_loggers': False,\n",
    "    'formatters': {\n",
    "        'verbose': {\n",
    "            'format': '%(levelname)s %(asctime)s %(module)s %(process)d %(thread)d %(cls_name)s %(funcName)s %(lineno)d %(message)s '\n",
    "        },\n",
    "        'simple': {\n",
    "            'format': '%(levelname)s %(message)s'\n",
    "        },\n",
    "    },\n",
    "    'filters': {\n",
    "        'require_debug_true': {\n",
    "            '()': 'django.utils.log.RequireDebugTrue',\n",
    "        },\n",
    "    },\n",
    "    'handlers': {\n",
    "        'console': {\n",
    "            'level': 'INFO',\n",
    "            'filters': ['require_debug_true'],\n",
    "            'class': 'logging.StreamHandler',\n",
    "            'formatter': 'simple'\n",
    "        },\n",
    "        'mail_admins': {\n",
    "            'level': 'ERROR',\n",
    "            'class': 'django.utils.log.AdminEmailHandler',\n",
    "            # 'filters': ['special']\n",
    "        },\n",
    "        'Addition_log': {\n",
    "            'level': 'INFO',\n",
    "            'class': 'logging.handlers.RotatingFileHandler',\n",
    "            'filename': os.path.join(LOG_DIR, LOG_FILE),\n",
    "            'maxBytes': 1024 * 1024 * 10,  # 15MB\n",
    "            'backupCount': 10,\n",
    "            'formatter': 'verbose'\n",
    "\n",
    "        },\n",
    "    },\n",
    "    'loggers': {\n",
    "        'django': {\n",
    "            'handlers': ['console'],\n",
    "            'propagate': True,\n",
    "        },\n",
    "        'django.request': {\n",
    "            # 'handlers': ['mail_admins'],\n",
    "            'handlers': [],\n",
    "            'level': 'ERROR',\n",
    "            'propagate': False,\n",
    "        },\n",
    "        'CalculatorApp': {\n",
    "            'handlers': ['Addition_log', 'console'],\n",
    "            'level': 'INFO',\n",
    "\n",
    "        },\n",
    "    }\n",
    "}"
   ]
  },
  {
   "cell_type": "code",
   "execution_count": null,
   "id": "848f3e45",
   "metadata": {},
   "outputs": [],
   "source": []
  },
  {
   "cell_type": "code",
   "execution_count": null,
   "id": "0f88987b",
   "metadata": {},
   "outputs": [],
   "source": []
  },
  {
   "cell_type": "code",
   "execution_count": null,
   "id": "aef33c15",
   "metadata": {},
   "outputs": [],
   "source": []
  }
 ],
 "metadata": {
  "kernelspec": {
   "display_name": "Python 3 (ipykernel)",
   "language": "python",
   "name": "python3"
  },
  "language_info": {
   "codemirror_mode": {
    "name": "ipython",
    "version": 3
   },
   "file_extension": ".py",
   "mimetype": "text/x-python",
   "name": "python",
   "nbconvert_exporter": "python",
   "pygments_lexer": "ipython3",
   "version": "3.9.7"
  }
 },
 "nbformat": 4,
 "nbformat_minor": 5
}
